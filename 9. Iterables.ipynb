{
 "cells": [
  {
   "cell_type": "markdown",
   "id": "619a954e",
   "metadata": {},
   "source": [
    "# Listas\n",
    "Las listas son los iterables básicos de Python, podemos acceder a un elemento de la lista utilizando corchetes"
   ]
  },
  {
   "cell_type": "code",
   "execution_count": 4,
   "id": "7438426c",
   "metadata": {
    "scrolled": true
   },
   "outputs": [
    {
     "data": {
      "text/plain": [
       "6"
      ]
     },
     "execution_count": 4,
     "metadata": {},
     "output_type": "execute_result"
    }
   ],
   "source": [
    "milista = [1, 2, 4, 6, 9]\n",
    "milista[3]"
   ]
  },
  {
   "cell_type": "markdown",
   "id": "b8c05a8f",
   "metadata": {},
   "source": [
    "Las listas son iterables mutables, es decir que se pueden modificar, para eso utilizamos un operador de asiganción. Las listas pueden contener cualquier otro objeto."
   ]
  },
  {
   "cell_type": "code",
   "execution_count": 6,
   "id": "859ab579",
   "metadata": {
    "scrolled": true
   },
   "outputs": [
    {
     "data": {
      "text/plain": [
       "[1, 2, 4, 'hola', 9]"
      ]
     },
     "execution_count": 6,
     "metadata": {},
     "output_type": "execute_result"
    }
   ],
   "source": [
    "milista[3] = \"hola\"\n",
    "milista"
   ]
  },
  {
   "cell_type": "markdown",
   "id": "34d863e8",
   "metadata": {},
   "source": [
    "Las listas soportan algunos operadores básicos como + o *"
   ]
  },
  {
   "cell_type": "code",
   "execution_count": 8,
   "id": "3d4f6e81",
   "metadata": {
    "scrolled": true
   },
   "outputs": [
    {
     "data": {
      "text/plain": [
       "[1, 2, 4, 'hola', 9, 56, 33, 0, 0, 0, 0, 0]"
      ]
     },
     "execution_count": 8,
     "metadata": {},
     "output_type": "execute_result"
    }
   ],
   "source": [
    "milista + [56, 33] + [0]*5"
   ]
  },
  {
   "cell_type": "markdown",
   "id": "aab7865d",
   "metadata": {},
   "source": [
    "Las listas en python soportan slicing (obtener regiones de mi lista)"
   ]
  },
  {
   "cell_type": "code",
   "execution_count": 11,
   "id": "a47a67d9",
   "metadata": {},
   "outputs": [
    {
     "data": {
      "text/plain": [
       "[1, 2, 4]"
      ]
     },
     "execution_count": 11,
     "metadata": {},
     "output_type": "execute_result"
    }
   ],
   "source": [
    "milista[:3]   #muestra los 3 primeros elementos"
   ]
  },
  {
   "cell_type": "code",
   "execution_count": 12,
   "id": "f34db059",
   "metadata": {},
   "outputs": [
    {
     "data": {
      "text/plain": [
       "['hola', 9]"
      ]
     },
     "execution_count": 12,
     "metadata": {},
     "output_type": "execute_result"
    }
   ],
   "source": [
    "milista[3:]   #muestra del 3º al ultimo elemento"
   ]
  },
  {
   "cell_type": "code",
   "execution_count": 15,
   "id": "bab6e796",
   "metadata": {},
   "outputs": [
    {
     "data": {
      "text/plain": [
       "[1, 2]"
      ]
     },
     "execution_count": 15,
     "metadata": {},
     "output_type": "execute_result"
    }
   ],
   "source": [
    "milista[:-3]   #muestra todos menos los tres ultimos elementos"
   ]
  },
  {
   "cell_type": "code",
   "execution_count": 16,
   "id": "e99e0f93",
   "metadata": {},
   "outputs": [
    {
     "data": {
      "text/plain": [
       "[2, 4]"
      ]
     },
     "execution_count": 16,
     "metadata": {},
     "output_type": "execute_result"
    }
   ],
   "source": [
    "milista[1:3]   #muestra los elementos con índice 1 al 3"
   ]
  },
  {
   "cell_type": "markdown",
   "id": "2bc76729",
   "metadata": {},
   "source": [
    "Para recorrer una lista podemos utilizar un for con un iterador. Por ejemplo, el siguiente código toma una lista de números y los muestra elevados al cuadrado"
   ]
  },
  {
   "cell_type": "code",
   "execution_count": 22,
   "id": "34819774",
   "metadata": {},
   "outputs": [
    {
     "name": "stdout",
     "output_type": "stream",
     "text": [
      "3\n",
      "6\n",
      "2\n",
      "7\n",
      "9\n",
      "12\n",
      "5\n",
      "7\n"
     ]
    }
   ],
   "source": [
    "numeros = [3, 6, 2, 7, 9, 12, 5, 7]\n",
    "for n in numeros:\n",
    "    print(n)"
   ]
  },
  {
   "cell_type": "markdown",
   "id": "abde4c93",
   "metadata": {},
   "source": [
    "## Ejercicio\n",
    "Escriba código que calcule la sumatoria de los elementos de la lista `numeros`"
   ]
  },
  {
   "cell_type": "code",
   "execution_count": 23,
   "id": "c5b33d2b",
   "metadata": {},
   "outputs": [
    {
     "name": "stdout",
     "output_type": "stream",
     "text": [
      "51\n"
     ]
    }
   ],
   "source": [
    "suma = 0\n",
    "for num in numeros:\n",
    "    suma = suma + num\n",
    "print(suma)\n",
    "    "
   ]
  },
  {
   "cell_type": "code",
   "execution_count": 24,
   "id": "5e3f7d3f",
   "metadata": {
    "scrolled": true
   },
   "outputs": [
    {
     "data": {
      "text/plain": [
       "51"
      ]
     },
     "execution_count": 24,
     "metadata": {},
     "output_type": "execute_result"
    }
   ],
   "source": [
    "sum(numeros)   #sum es una función embebida"
   ]
  },
  {
   "cell_type": "markdown",
   "id": "04b6ca40",
   "metadata": {},
   "source": [
    "Algunas operaciones sobre listas se pueden hacer utilizando los métodos de la clase lista, o las funciones embebidas de python.\n",
    "Por ejemplo si quiero invertir una lista"
   ]
  },
  {
   "cell_type": "code",
   "execution_count": 32,
   "id": "94182ba5",
   "metadata": {},
   "outputs": [
    {
     "data": {
      "text/plain": [
       "[7, 5, 12, 9, 7, 2, 6, 3]"
      ]
     },
     "execution_count": 32,
     "metadata": {},
     "output_type": "execute_result"
    }
   ],
   "source": [
    "numeros = [3, 6, 2, 7, 9, 12, 5, 7]\n",
    "numeros.reverse()\n",
    "numeros"
   ]
  },
  {
   "cell_type": "markdown",
   "id": "a07d6d77",
   "metadata": {},
   "source": [
    "También podemos iterar sobre listas simulando un índice numérico para señalar elementos de la lista, como en otros lenguajes como C++ o Java. Por ejemplo calcular la suma de la lista números pero generando índices"
   ]
  },
  {
   "cell_type": "code",
   "execution_count": 37,
   "id": "04fa86ef",
   "metadata": {
    "scrolled": true
   },
   "outputs": [
    {
     "name": "stdout",
     "output_type": "stream",
     "text": [
      "51\n"
     ]
    }
   ],
   "source": [
    "numeros = [3, 6, 2, 7, 9, 12, 5, 7]\n",
    "suma = 0\n",
    "for i in range(len(numeros)):  #len devuelve el tamaño de una lista\n",
    "    suma = suma + numeros[i]\n",
    "print(suma)\n",
    "    "
   ]
  },
  {
   "cell_type": "markdown",
   "id": "b17a98c1",
   "metadata": {},
   "source": [
    "Para agregar elementos a una lista, podemos utilizar dos formas."
   ]
  },
  {
   "cell_type": "code",
   "execution_count": 38,
   "id": "3eb1bbb5",
   "metadata": {
    "scrolled": true
   },
   "outputs": [
    {
     "data": {
      "text/plain": [
       "[3, 6, 2, 7, 9, 12, 5, 7, 100]"
      ]
     },
     "execution_count": 38,
     "metadata": {},
     "output_type": "execute_result"
    }
   ],
   "source": [
    "numeros.append(100)\n",
    "numeros"
   ]
  },
  {
   "cell_type": "code",
   "execution_count": 40,
   "id": "63e8ab86",
   "metadata": {},
   "outputs": [
    {
     "data": {
      "text/plain": [
       "[3, 6, 2, 7, 9, 12, 5, 7, 100, 200]"
      ]
     },
     "execution_count": 40,
     "metadata": {},
     "output_type": "execute_result"
    }
   ],
   "source": [
    "numeros = numeros + [200]\n",
    "numeros"
   ]
  },
  {
   "cell_type": "markdown",
   "id": "30a882ae",
   "metadata": {},
   "source": [
    "## Ejercicio\n",
    "Escribir código que permita sumar dos listas de igual tamaño. El resultado se cargará en otra lista `resultado`"
   ]
  },
  {
   "cell_type": "code",
   "execution_count": 45,
   "id": "91294204",
   "metadata": {
    "scrolled": true
   },
   "outputs": [
    {
     "data": {
      "text/plain": [
       "[7, 12, 10, 9, 15, 15, 9, 8]"
      ]
     },
     "execution_count": 45,
     "metadata": {},
     "output_type": "execute_result"
    }
   ],
   "source": [
    "numeros = [3, 6, 2, 7, 9, 12, 5, 7]\n",
    "otros = [4, 6, 8, 2, 6, 3, 4, 1]\n",
    "resultado = []\n",
    "for i in range(len(numeros)):\n",
    "    resultado.append(numeros[i] + otros[i])\n",
    "resultado"
   ]
  },
  {
   "cell_type": "markdown",
   "id": "93172165",
   "metadata": {},
   "source": [
    "Si las listas no tienen el mismo tamaño podemos usar otras funciones para solo iterar hasta la longitud de la lista mas pequeña"
   ]
  },
  {
   "cell_type": "code",
   "execution_count": 48,
   "id": "eb2683cf",
   "metadata": {
    "scrolled": true
   },
   "outputs": [
    {
     "data": {
      "text/plain": [
       "[7, 12, 10, 9, 15, 15, 9, 8]"
      ]
     },
     "execution_count": 48,
     "metadata": {},
     "output_type": "execute_result"
    }
   ],
   "source": [
    "numeros = [3, 6, 2, 7, 9, 12, 5, 7, 22]\n",
    "otros = [4, 6, 8, 2, 6, 3, 4, 1]\n",
    "resultado = []\n",
    "for i,j in zip(numeros, otros):\n",
    "    resultado.append(i+j)\n",
    "resultado"
   ]
  },
  {
   "cell_type": "code",
   "execution_count": 50,
   "id": "cc865b99",
   "metadata": {
    "scrolled": true
   },
   "outputs": [
    {
     "data": {
      "text/plain": [
       "[7, 12, 10, 9, 15, 15, 9, 8]"
      ]
     },
     "execution_count": 50,
     "metadata": {},
     "output_type": "execute_result"
    }
   ],
   "source": [
    "numeros = [3, 6, 2, 7, 9, 12, 5, 7, 22]\n",
    "otros = [4, 6, 8, 2, 6, 3, 4, 1]\n",
    "resultado = [i+j for i,j in zip(numeros,otros)]\n",
    "resultado\n"
   ]
  },
  {
   "cell_type": "markdown",
   "id": "c10bbfd3",
   "metadata": {},
   "source": [
    "## Ejercicio\n",
    "Escribir un programa que genere una lista de las potencias de 2 hasta un número n y luego calcule la suma de estos.\n",
    "[1, 2, 4, 8, 16, 32] la suma es 63"
   ]
  },
  {
   "cell_type": "code",
   "execution_count": 3,
   "id": "79ae7309",
   "metadata": {
    "scrolled": true
   },
   "outputs": [
    {
     "name": "stdout",
     "output_type": "stream",
     "text": [
      "[1, 2, 4, 8, 16, 32, 64, 128, 256, 512]\n",
      "1023\n"
     ]
    }
   ],
   "source": [
    "n = 10\n",
    "suma = 0\n",
    "listapotencias = []\n",
    "for exponente in range(n):\n",
    "    potencia = 2**exponente\n",
    "    suma = suma + potencia\n",
    "    listapotencias.append(potencia)\n",
    "print(listapotencias)\n",
    "print(suma)"
   ]
  },
  {
   "cell_type": "markdown",
   "id": "d471d393",
   "metadata": {},
   "source": [
    "También podemos utilizar generadores de listas para resolver este ejercicio"
   ]
  },
  {
   "cell_type": "code",
   "execution_count": 4,
   "id": "b8355470",
   "metadata": {
    "scrolled": true
   },
   "outputs": [
    {
     "name": "stdout",
     "output_type": "stream",
     "text": [
      "[1, 2, 4, 8, 16, 32, 64, 128, 256, 512]\n",
      "1023\n"
     ]
    }
   ],
   "source": [
    "n = 10\n",
    "listapotencias = [2**exponente for exponente in range(n)]\n",
    "print(listapotencias)\n",
    "print(sum(listapotencias))"
   ]
  },
  {
   "cell_type": "code",
   "execution_count": 18,
   "id": "ea67902d",
   "metadata": {
    "scrolled": true
   },
   "outputs": [
    {
     "data": {
      "text/plain": [
       "1023"
      ]
     },
     "execution_count": 18,
     "metadata": {},
     "output_type": "execute_result"
    }
   ],
   "source": [
    "n = 10\n",
    "sum(map(lambda n: 2**n, range(n)))\n"
   ]
  },
  {
   "cell_type": "markdown",
   "id": "6cb3dd0c",
   "metadata": {},
   "source": [
    "# Tuplas\n",
    "Es un iterable similar a las listas pero a diferencia de ellas, las tuplas son imutables (no se pueden modificar)"
   ]
  },
  {
   "cell_type": "code",
   "execution_count": 20,
   "id": "7540de68",
   "metadata": {},
   "outputs": [
    {
     "data": {
      "text/plain": [
       "'Iván'"
      ]
     },
     "execution_count": 20,
     "metadata": {},
     "output_type": "execute_result"
    }
   ],
   "source": [
    "coordenada = (123, 37)\n",
    "datospersonales = (\"Iván\", 40723444, \"masculino\")\n",
    "datospersonales[0]"
   ]
  },
  {
   "cell_type": "markdown",
   "id": "ad172fc2",
   "metadata": {},
   "source": [
    "Si se intenta modificar un elemento de la tupla obtendré un error"
   ]
  },
  {
   "cell_type": "code",
   "execution_count": 21,
   "id": "66b331eb",
   "metadata": {
    "scrolled": true
   },
   "outputs": [
    {
     "ename": "TypeError",
     "evalue": "'tuple' object does not support item assignment",
     "output_type": "error",
     "traceback": [
      "\u001b[1;31m---------------------------------------------------------------------------\u001b[0m",
      "\u001b[1;31mTypeError\u001b[0m                                 Traceback (most recent call last)",
      "\u001b[1;32m~\\AppData\\Local\\Temp/ipykernel_8312/1083645826.py\u001b[0m in \u001b[0;36m<module>\u001b[1;34m\u001b[0m\n\u001b[1;32m----> 1\u001b[1;33m \u001b[0mdatospersonales\u001b[0m\u001b[1;33m[\u001b[0m\u001b[1;36m0\u001b[0m\u001b[1;33m]\u001b[0m \u001b[1;33m=\u001b[0m \u001b[1;34m\"Lo que sea\"\u001b[0m\u001b[1;33m\u001b[0m\u001b[1;33m\u001b[0m\u001b[0m\n\u001b[0m",
      "\u001b[1;31mTypeError\u001b[0m: 'tuple' object does not support item assignment"
     ]
    }
   ],
   "source": [
    "datospersonales[0] = \"Lo que sea\""
   ]
  },
  {
   "cell_type": "markdown",
   "id": "b4bc8180",
   "metadata": {},
   "source": [
    "Las tuplas se pueden utilizar para abreviar operaciones de asignación y salida de funciones."
   ]
  },
  {
   "cell_type": "code",
   "execution_count": 23,
   "id": "b080c151",
   "metadata": {
    "scrolled": true
   },
   "outputs": [
    {
     "name": "stdout",
     "output_type": "stream",
     "text": [
      "a:  3\n",
      "b:  2\n"
     ]
    }
   ],
   "source": [
    "a = 2\n",
    "b = 3\n",
    "#intercambia los valores de a y b\n",
    "aux = a\n",
    "a = b\n",
    "b = aux\n",
    "print(\"a: \", a)\n",
    "print(\"b: \", b)"
   ]
  },
  {
   "cell_type": "code",
   "execution_count": 24,
   "id": "61a44e59",
   "metadata": {},
   "outputs": [
    {
     "name": "stdout",
     "output_type": "stream",
     "text": [
      "a:  3\n",
      "b:  2\n"
     ]
    }
   ],
   "source": [
    "#en python es mas simple\n",
    "a = 2\n",
    "b = 3\n",
    "a, b = b, a\n",
    "print(\"a: \", a)\n",
    "print(\"b: \", b)"
   ]
  },
  {
   "cell_type": "markdown",
   "id": "aa62ff01",
   "metadata": {},
   "source": [
    "# Cadenas\n",
    "Las cadenas son iterables que contienen caracteres como elementos. Tambien son imutables"
   ]
  },
  {
   "cell_type": "code",
   "execution_count": 25,
   "id": "1af96681",
   "metadata": {},
   "outputs": [],
   "source": [
    "micadena = \"mi mama me mima\"\n",
    "micadena[6] = \"á\"  #me dará un error por que las cadenas son imutables"
   ]
  },
  {
   "cell_type": "markdown",
   "id": "bac88537",
   "metadata": {},
   "source": [
    "Podemos utilizar slicing, para obtener partes de una cadena"
   ]
  },
  {
   "cell_type": "code",
   "execution_count": 29,
   "id": "13b72d05",
   "metadata": {
    "scrolled": true
   },
   "outputs": [
    {
     "data": {
      "text/plain": [
       "' como '"
      ]
     },
     "execution_count": 29,
     "metadata": {},
     "output_type": "execute_result"
    }
   ],
   "source": [
    "cadena = \"Hola como estan todos\"\n",
    "cadena[4:10]"
   ]
  },
  {
   "cell_type": "markdown",
   "id": "c8c018a3",
   "metadata": {},
   "source": [
    "Pero las cadenas tiene métodos especiales para realizar algunas operaciones propias de las cadenas."
   ]
  },
  {
   "cell_type": "code",
   "execution_count": 31,
   "id": "edc8b788",
   "metadata": {},
   "outputs": [
    {
     "data": {
      "text/plain": [
       "'Hola como estan'"
      ]
     },
     "execution_count": 31,
     "metadata": {},
     "output_type": "execute_result"
    }
   ],
   "source": [
    "\"hola como estan\".capitalize()"
   ]
  },
  {
   "cell_type": "code",
   "execution_count": 32,
   "id": "0dcaa3cd",
   "metadata": {
    "scrolled": true
   },
   "outputs": [
    {
     "data": {
      "text/plain": [
       "5"
      ]
     },
     "execution_count": 32,
     "metadata": {},
     "output_type": "execute_result"
    }
   ],
   "source": [
    "\"hola como estan\".find(\"como\")"
   ]
  },
  {
   "cell_type": "code",
   "execution_count": 33,
   "id": "8eb026a1",
   "metadata": {},
   "outputs": [
    {
     "data": {
      "text/plain": [
       "'hola como están'"
      ]
     },
     "execution_count": 33,
     "metadata": {},
     "output_type": "execute_result"
    }
   ],
   "source": [
    "\"hola como estan\".replace(\"ta\", \"tá\")"
   ]
  },
  {
   "cell_type": "code",
   "execution_count": 36,
   "id": "6c98ba2e",
   "metadata": {},
   "outputs": [
    {
     "data": {
      "text/plain": [
       "'hola-como-están-todos'"
      ]
     },
     "execution_count": 36,
     "metadata": {},
     "output_type": "execute_result"
    }
   ],
   "source": [
    "\"-\".join([\"hola\", \"como\", \"están\", \"todos\"])"
   ]
  },
  {
   "cell_type": "code",
   "execution_count": 37,
   "id": "e267195d",
   "metadata": {},
   "outputs": [
    {
     "data": {
      "text/plain": [
       "['hola', 'como', 'estan', 'todos']"
      ]
     },
     "execution_count": 37,
     "metadata": {},
     "output_type": "execute_result"
    }
   ],
   "source": [
    "\"hola como estan todos\".split()"
   ]
  },
  {
   "cell_type": "code",
   "execution_count": 38,
   "id": "866f47cc",
   "metadata": {
    "scrolled": true
   },
   "outputs": [
    {
     "data": {
      "text/plain": [
       "['h', 'la c', 'm', ' estan t', 'd', 's']"
      ]
     },
     "execution_count": 38,
     "metadata": {},
     "output_type": "execute_result"
    }
   ],
   "source": [
    "\"hola como estan todos\".split('o')"
   ]
  },
  {
   "cell_type": "code",
   "execution_count": 41,
   "id": "2f779d3d",
   "metadata": {
    "scrolled": true
   },
   "outputs": [
    {
     "data": {
      "text/plain": [
       "'hOlA cOmO EstAn tOdOs'"
      ]
     },
     "execution_count": 41,
     "metadata": {},
     "output_type": "execute_result"
    }
   ],
   "source": [
    "cambio = str.maketrans(\"aeiou\",\"AEIOU\")\n",
    "\"hola como estan todos\".translate(cambio)"
   ]
  },
  {
   "cell_type": "code",
   "execution_count": 44,
   "id": "bfcac211",
   "metadata": {},
   "outputs": [
    {
     "data": {
      "text/plain": [
       "'IGSQEGDGTLÑQNÑGRGL'"
      ]
     },
     "execution_count": 44,
     "metadata": {},
     "output_type": "execute_result"
    }
   ],
   "source": [
    "cifra = str.maketrans(\"ABCDEFGHIJKLMÑOPQRSTUVWXYZ\", \"QWERTYUIOPASDFGHJKLÑZXCVBN\")\n",
    "texto = \"HOLA COMO ESTAN TODOS\"\n",
    "palabras = texto.split()\n",
    "texto = \"\".join(palabras)\n",
    "texto.translate(cifra)"
   ]
  },
  {
   "cell_type": "markdown",
   "id": "6c947b24",
   "metadata": {},
   "source": [
    "## Ejercicio\n",
    "Escribir un programa que cuente cuántas palabras hay en una frase"
   ]
  },
  {
   "cell_type": "code",
   "execution_count": 45,
   "id": "11d0f7c1",
   "metadata": {},
   "outputs": [
    {
     "data": {
      "text/plain": [
       "4"
      ]
     },
     "execution_count": 45,
     "metadata": {},
     "output_type": "execute_result"
    }
   ],
   "source": [
    "len(\"hola como estan todos\".split())"
   ]
  },
  {
   "cell_type": "code",
   "execution_count": 48,
   "id": "6cfa28f6",
   "metadata": {},
   "outputs": [
    {
     "name": "stdout",
     "output_type": "stream",
     "text": [
      "4\n"
     ]
    }
   ],
   "source": [
    "frase = \"hola como estan todos\"\n",
    "contador = 1\n",
    "for c in frase:\n",
    "    if c == \" \":\n",
    "        contador +=1\n",
    "print(contador)"
   ]
  }
 ],
 "metadata": {
  "kernelspec": {
   "display_name": "Python 3 (ipykernel)",
   "language": "python",
   "name": "python3"
  },
  "language_info": {
   "codemirror_mode": {
    "name": "ipython",
    "version": 3
   },
   "file_extension": ".py",
   "mimetype": "text/x-python",
   "name": "python",
   "nbconvert_exporter": "python",
   "pygments_lexer": "ipython3",
   "version": "3.7.4"
  }
 },
 "nbformat": 4,
 "nbformat_minor": 5
}

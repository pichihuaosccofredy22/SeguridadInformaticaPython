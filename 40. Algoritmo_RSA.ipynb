{
  "cells": [
    {
      "cell_type": "markdown",
      "id": "9efc7235-f472-477d-a506-73205d963f6b",
      "metadata": {
        "id": "9efc7235-f472-477d-a506-73205d963f6b"
      },
      "source": [
        "# Algoritmo RSA"
      ]
    },
    {
      "cell_type": "markdown",
      "id": "d90b5162-938e-41c6-a189-ea0e32a2e495",
      "metadata": {
        "id": "d90b5162-938e-41c6-a189-ea0e32a2e495"
      },
      "source": [
        "Suponiendo que Bob se quiere comuniar con Mary. Ambos deben generar su par de claves pública y privada.\n",
        "Para esto eligen $p$ y $q$ que son primos aleatorios.\n",
        "\n",
        "Para esto necesitamos una prueba rápida de primalidad. El algoritmo determinístico es demasiado lento ya que requiere hacer una búsqueda exhaustiva de los posibles divisores de un número.\n",
        "\n",
        "En su lugar utilizaremos una prueba estocástica llamada Test de Miller Rabin.\n",
        "\n",
        "De forma aleatoria generamos números aleatorios de un tamaño determinado y los sometemos a la prueba de Miller Rabin hasta obtener un número aleatorio primo."
      ]
    },
    {
      "cell_type": "code",
      "execution_count": null,
      "id": "7bd95e9f-f28e-471b-aa9b-887500c5d5e1",
      "metadata": {
        "id": "7bd95e9f-f28e-471b-aa9b-887500c5d5e1"
      },
      "outputs": [],
      "source": [
        "import random\n",
        "\n",
        "def esPrimo(n): #no sirve\n",
        "  divisor = 2\n",
        "  while divisor < n/2:\n",
        "    if (n % divisor == 0):\n",
        "      return False\n",
        "    divisor += 1\n",
        "  print(divisor)\n",
        "  return True\n",
        "\n",
        "def rabinMiller(num):\n",
        "    '''Comprueba si un numero num es probablemente primo'''\n",
        "    if num%2 == 0:\n",
        "        return False\n",
        "    s = num - 1\n",
        "    t = 0\n",
        "    while s % 2 == 0:\n",
        "        s = s // 2\n",
        "        t += 1\n",
        "   \n",
        "    for pruebas in range(5):\n",
        "        a = random.randrange(2, num - 1)\n",
        "        v = pow(a,s,num)\n",
        "\n",
        "        if v != 1:\n",
        "            i = 0\n",
        "            while v != (num - 1):\n",
        "                if i == t - 1:\n",
        "                    return False\n",
        "                else:\n",
        "                    i = i + 1\n",
        "                    v = (v**2)%num\n",
        "    return True\n",
        "\n",
        "def getPrimo(tam):\n",
        "    while(True):\n",
        "        num=random.randint(2**tam,2**(tam+1))\n",
        "        if(rabinMiller(num)):\n",
        "            return num "
      ]
    },
    {
      "cell_type": "markdown",
      "id": "a44b4c7b-7faa-4c34-91fd-8f7ab0fcf2d4",
      "metadata": {
        "id": "a44b4c7b-7faa-4c34-91fd-8f7ab0fcf2d4"
      },
      "source": [
        "Mary calcula su par de claves pública y privada, del orden de $2^{16}$. Las claves del algoritmo RSA seguras con del orden de $2^{2048}$ o más. Para este ejemplo vamos a trabajar con números relativamente pequeños del orden de $2^{16}$"
      ]
    },
    {
      "cell_type": "code",
      "execution_count": null,
      "id": "8de2c168-1f38-4b08-ad7e-12f80e4c9a4b",
      "metadata": {
        "id": "8de2c168-1f38-4b08-ad7e-12f80e4c9a4b"
      },
      "outputs": [],
      "source": [
        "bits = 1024\n",
        "p = getPrimo(bits)\n",
        "q = getPrimo(bits)"
      ]
    },
    {
      "cell_type": "markdown",
      "id": "edd7cd62-6e5d-48e1-9be3-7a8d9aa5231d",
      "metadata": {
        "id": "edd7cd62-6e5d-48e1-9be3-7a8d9aa5231d"
      },
      "source": [
        "Luego calculamos $z = pq$ y $ф=(p-1)(q-1)$"
      ]
    },
    {
      "cell_type": "code",
      "execution_count": null,
      "id": "ea57dffa-b7d9-4b7a-9f05-2d45195cd3ed",
      "metadata": {
        "id": "ea57dffa-b7d9-4b7a-9f05-2d45195cd3ed"
      },
      "outputs": [],
      "source": [
        "z = p*q\n",
        "phi = (p - 1) * (q - 1)"
      ]
    },
    {
      "cell_type": "markdown",
      "id": "a8459084-4815-49b0-97e2-fc85aba16572",
      "metadata": {
        "id": "a8459084-4815-49b0-97e2-fc85aba16572"
      },
      "source": [
        "y luego elegimos un $n$ que es coprimo con ф, en este ejemplo lo elegimos primo que obviamente será coprimo con cualquier otro número. Si elegimos e primo se verificará que $n\\ mod\\ ф = 1$. Por lo que e tiene un inverso multiplicativo $s$"
      ]
    },
    {
      "cell_type": "code",
      "execution_count": null,
      "id": "7f71912e-92a1-4aa3-a9fa-b910c609df1b",
      "metadata": {
        "id": "7f71912e-92a1-4aa3-a9fa-b910c609df1b"
      },
      "outputs": [],
      "source": [
        "def modinv(n, phi):\n",
        "    '''calcula el inverso del modulo s de dos numeros n y phi'''\n",
        "    def egcd(n, b):\n",
        "        if n == 0:\n",
        "            return (b, 0, 1)\n",
        "        g, y, x = egcd(b%n,n)\n",
        "        return (g, x - (b//n) * y, y)\n",
        "    g, x, y = egcd(n, phi)\n",
        "    if g != 1:\n",
        "        raise Exception('No hay inverso del módulo')\n",
        "    return x%phi\n",
        "\n",
        "n = getPrimo(bits)\n",
        "s = modinv(n,phi)"
      ]
    },
    {
      "cell_type": "markdown",
      "id": "38016ef4-101f-472a-8b1f-efb594ea15cd",
      "metadata": {
        "id": "38016ef4-101f-472a-8b1f-efb594ea15cd"
      },
      "source": [
        "Ya tenemos las claves pública $(z,n)$ y privada $(z,s)$ de Mary "
      ]
    },
    {
      "cell_type": "code",
      "execution_count": null,
      "id": "90f523c8-220d-4c9a-8ef5-8c560b61adc7",
      "metadata": {
        "id": "90f523c8-220d-4c9a-8ef5-8c560b61adc7"
      },
      "outputs": [],
      "source": [
        "clavePublica = (z,n)\n",
        "clavePrivada = (z,s)"
      ]
    },
    {
      "cell_type": "markdown",
      "id": "2a37b390-39c9-4da0-b1a1-74d09744fd4f",
      "metadata": {
        "id": "2a37b390-39c9-4da0-b1a1-74d09744fd4f"
      },
      "source": [
        "Si Bob quiere enviar un mensaje M debe utilizar la calve pública de Mary. Suponiendo que el mensaje $a = 1000$. considerando que $0<a<z$"
      ]
    },
    {
      "cell_type": "code",
      "execution_count": null,
      "id": "20d41310-10de-4ced-8e6c-16c58a71f410",
      "metadata": {
        "id": "20d41310-10de-4ced-8e6c-16c58a71f410"
      },
      "outputs": [],
      "source": [
        "a = 32476740775604083"
      ]
    },
    {
      "cell_type": "markdown",
      "id": "9520077d-c7df-487c-9815-68d9f7c53345",
      "metadata": {
        "id": "9520077d-c7df-487c-9815-68d9f7c53345"
      },
      "source": [
        "Bob cifra el mensaje utilizando la clave pública de mary, y obtiene el mensaje cifrado $c = a^n mod\\ z$"
      ]
    },
    {
      "cell_type": "code",
      "execution_count": null,
      "id": "47673e68-f9d0-4855-af12-f092e11273d8",
      "metadata": {
        "colab": {
          "base_uri": "https://localhost:8080/"
        },
        "id": "47673e68-f9d0-4855-af12-f092e11273d8",
        "outputId": "453402f6-faa0-4c57-e2b4-9b7f84004958"
      },
      "outputs": [
        {
          "output_type": "execute_result",
          "data": {
            "text/plain": [
              "20239363598151611374833551672086775454293470192524790002833876609220128860663712720239675831862249118951894828692916744799747699122061573654932824361478162109698626894814309269026391789869720875416509474703848040731814490615004400171143969451723786207594345758488604215267419689456994523408162372318169191211361517833823381228096362370774115823780751597734287198374773225815062186666580432474634549462741711678080588318928769907921687859952787098138046293404744279717740810974236132104314459892454280595000149633760245444398366049339608917932865050101108994897295771322820997506505078718318819374750869507221233454729"
            ]
          },
          "metadata": {},
          "execution_count": 7
        }
      ],
      "source": [
        "c = pow(a,n,z)   #mensaje cifrado\n",
        "c"
      ]
    },
    {
      "cell_type": "markdown",
      "id": "0dc6afc0-224f-4769-adad-9add2d46fae8",
      "metadata": {
        "id": "0dc6afc0-224f-4769-adad-9add2d46fae8"
      },
      "source": [
        "Luego envía a Mary el mensaje cifrado $c$"
      ]
    },
    {
      "cell_type": "markdown",
      "id": "159c8822-3229-4d1d-bea9-364af70be8c0",
      "metadata": {
        "id": "159c8822-3229-4d1d-bea9-364af70be8c0"
      },
      "source": [
        "Cuando Mary recibe el mensaje cifrado $c$, lo descifra utilizando su propia clave privada $(z,s)$. Y obtiene el mensaje en claro $a = c^s\\ mod \\ z $."
      ]
    },
    {
      "cell_type": "code",
      "execution_count": null,
      "id": "0547b33b-e237-4ad7-b8ff-7abec4fe41d2",
      "metadata": {
        "colab": {
          "base_uri": "https://localhost:8080/"
        },
        "id": "0547b33b-e237-4ad7-b8ff-7abec4fe41d2",
        "outputId": "8c5dafa5-af89-4a96-f461-82c01e29a0ea"
      },
      "outputs": [
        {
          "output_type": "execute_result",
          "data": {
            "text/plain": [
              "32476740775604083"
            ]
          },
          "metadata": {},
          "execution_count": 8
        }
      ],
      "source": [
        "a = pow(c,s,z)   #mensaje descifrado\n",
        "a"
      ]
    },
    {
      "cell_type": "markdown",
      "source": [
        "\n",
        "## Ejercicio\n",
        "Genere un par de claves pública y privada pública $(z,n)$ y privada $(z,s)$, luego guárdelas en un archivo y comparta su clave pública con otra persona."
      ],
      "metadata": {
        "id": "h0FsHOZnlJl7"
      },
      "id": "h0FsHOZnlJl7"
    },
    {
      "cell_type": "code",
      "source": [
        "print(clavePublica)\n",
        "print(clavePrivada)"
      ],
      "metadata": {
        "colab": {
          "base_uri": "https://localhost:8080/"
        },
        "id": "EMMtPR8elekb",
        "outputId": "3caaf1b0-d5b8-4107-812c-0c31c49ddc00"
      },
      "id": "EMMtPR8elekb",
      "execution_count": null,
      "outputs": [
        {
          "output_type": "stream",
          "name": "stdout",
          "text": [
            "(60234449989569166859209617906007107864337168385782895954574595185030277973296738972436424444511233154727383483498968555635492146414224611196631982474499194178715303293843975229116286746626606239565019508611398464294760502919226237229560109694721424410022860966618774533846901564722200060432580012916723015727636348169048018507447890865900338376180030257151955897002083663562676144128427278198383396691050011058085024033220053496022813795066183818726285546783713594859206369980234671199034650332071849173527382712923171987565896038282751003555127148818611318607784770749811527961755084245407672806364536329785068772819, 252817027195019717131188058480132765501045597423091252888179840366172735024880600921599983128605090850752559774652185592985206555908003643686670812738110332120616738040135753733784615198247348031052318131376454527621621418070002429500871587086389476673654348440701374693581840918166542669612222221643755649123)\n",
            "(60234449989569166859209617906007107864337168385782895954574595185030277973296738972436424444511233154727383483498968555635492146414224611196631982474499194178715303293843975229116286746626606239565019508611398464294760502919226237229560109694721424410022860966618774533846901564722200060432580012916723015727636348169048018507447890865900338376180030257151955897002083663562676144128427278198383396691050011058085024033220053496022813795066183818726285546783713594859206369980234671199034650332071849173527382712923171987565896038282751003555127148818611318607784770749811527961755084245407672806364536329785068772819, 7037244722285699944677093884692216411191513157926665221989392414302733142604650762882920873344615164250971133484048110708212386697041084485965910522761679904216451828004407513375842518419076934351737296700783807658789392141792453366207697652871812642040710685861270961515063003010302011369204953179545649859566662623795534135434247968200308839061884826228577415097996440495547634746078315301020757819846757151547505235384090975432022074324275741437717198145213400171676266997503620210314336133674561777347747016522720902463020402958653714022106227134803696525584655239680093079371064432863607861924883694005841557147)\n"
          ]
        }
      ]
    },
    {
      "cell_type": "code",
      "source": [
        "import pickle\n",
        "with open(\"soria_pub.rsa\", \"wb\") as f:\n",
        "  pickle.dump(clavePublica, f)"
      ],
      "metadata": {
        "id": "TvPvmr9amF8z"
      },
      "id": "TvPvmr9amF8z",
      "execution_count": null,
      "outputs": []
    },
    {
      "cell_type": "code",
      "source": [
        "with open(\"soria_pri.rsa\", \"wb\") as f:\n",
        "  pickle.dump(clavePrivada, f)"
      ],
      "metadata": {
        "id": "1vIzm2o9ncZK"
      },
      "id": "1vIzm2o9ncZK",
      "execution_count": null,
      "outputs": []
    }
  ],
  "metadata": {
    "kernelspec": {
      "display_name": "Python 3 (ipykernel)",
      "language": "python",
      "name": "python3"
    },
    "language_info": {
      "codemirror_mode": {
        "name": "ipython",
        "version": 3
      },
      "file_extension": ".py",
      "mimetype": "text/x-python",
      "name": "python",
      "nbconvert_exporter": "python",
      "pygments_lexer": "ipython3",
      "version": "3.7.4"
    },
    "colab": {
      "provenance": [],
      "collapsed_sections": []
    }
  },
  "nbformat": 4,
  "nbformat_minor": 5
}
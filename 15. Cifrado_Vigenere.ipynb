{
  "cells": [
    {
      "cell_type": "markdown",
      "id": "a273f1d1-4fe7-43c5-8212-9023f41ba36e",
      "metadata": {
        "tags": [],
        "id": "a273f1d1-4fe7-43c5-8212-9023f41ba36e"
      },
      "source": [
        "# Cifrado Vigenere"
      ]
    },
    {
      "cell_type": "markdown",
      "source": [
        "La clase `TablaVigenere` es capaz de calcular la letra correspondiente a partir de un par de letras utilizando aritmética modular."
      ],
      "metadata": {
        "id": "-j4sNhggb7fF"
      },
      "id": "-j4sNhggb7fF"
    },
    {
      "cell_type": "code",
      "execution_count": null,
      "id": "15b43c91-2e33-40ec-913b-52e0bcb69338",
      "metadata": {
        "id": "15b43c91-2e33-40ec-913b-52e0bcb69338"
      },
      "outputs": [],
      "source": [
        "class TablaVigener:\n",
        "    alfabeto = None\n",
        "\n",
        "    def __init__(self, alfabeto):\n",
        "        '''Inicializa la clase con un alfabeto'''\n",
        "        self.alfabeto = alfabeto\n",
        "\n",
        "    def obtenerLetra(self, fila, columna, descifrar=False):\n",
        "        '''T.obtenerLetra(...) -> str\n",
        "        Devuelve la letra correspondiente a la fila y columna, si esta en modo descifrar=False\n",
        "        Devuelve la letra de la columna si está en modo descifrar=True'''\n",
        "        modo = -1 if descifrar else 1 #asignacion condicional, -1 o 1 segun sea el caso cifrar o descifrar\n",
        "        posfil = self.alfabeto.find(fila)\n",
        "        poscol = self.alfabeto.find(columna)+posfil*modo  #modo permite restar o sumar la posicion de la fila, esto cifra o descifra\n",
        "        return self.alfabeto[poscol%len(self.alfabeto)]\n",
        "\n",
        "    def setAlfabeto(self, alfabeto):\n",
        "        self.alfabeto = alfabeto\n",
        "    \n"
      ]
    },
    {
      "cell_type": "markdown",
      "id": "127804fd-f8c9-428f-8ba8-7d8cba8c2708",
      "metadata": {
        "id": "127804fd-f8c9-428f-8ba8-7d8cba8c2708"
      },
      "source": [
        "La clase `CifradorVigenere` consta de una tabla que es instancia de la clase `TablaVigenere` y contiene los procedimientos para generar una clave, cifrar y descifrar un mensaje."
      ]
    },
    {
      "cell_type": "code",
      "execution_count": null,
      "id": "8902ab9d-c80c-4a58-880a-d092244b2e3d",
      "metadata": {
        "id": "8902ab9d-c80c-4a58-880a-d092244b2e3d"
      },
      "outputs": [],
      "source": [
        "class CifradorVigener:\n",
        "    tabla = None #instancia una tabla vigener\n",
        "\n",
        "    def __init__(self, alfabeto='ABCDEFGHIJKLMNOPQRSTUVWXYZ'):  \n",
        "        '''\n",
        "        Constructor de la clase\n",
        "        alfabeto = \"ABC....\" es un parametro que tiene un valor por default \n",
        "        de un alfabeto en español, salvo se asigne uno a medida'''\n",
        "        self.tabla = TablaVigener(alfabeto)\n",
        "\n",
        "    def cifrar(self,texto,clave, descifrar=False):\n",
        "        '''cifrar(...) -> str\n",
        "        encuentra el caracter cifrado con ayuda de la tabla y la clave,\n",
        "        si descifrar= True, hace el proceso inverso y devuelve el\n",
        "        caracter descifrado'''\n",
        "        textoClaro=ProcesadorTexto.procesar(texto)\n",
        "        claveRecortada = self.procesarClave(clave, textoClaro)\n",
        "        textoCifrado = \"\"\n",
        "        for i in range(len(textoClaro)):\n",
        "            letra = self.tabla.obtenerLetra(claveRecortada[i],textoClaro[i],descifrar)\n",
        "            textoCifrado += letra\n",
        "        return textoCifrado\n",
        "\n",
        "    def descifrar(self,texto,clave):\n",
        "        '''descifrar(...) -> str\n",
        "        descifra un caracter con su correspondiente caracter clave'''\n",
        "        return self.cifrar(texto,clave,descifrar=True)\n",
        "      \n",
        "    def procesarClave(self, clave, textoClaro):\n",
        "        '''procesarClave(...) -> str\n",
        "        Repite la clave y la recorta al tamaño del texto en claro'''\n",
        "        longitud = len(textoClaro)\n",
        "        claveRepetida = clave*int(longitud/len(clave)+1)\n",
        "        longitudMinima = longitud #min(longitud,len(claveRepetida))\n",
        "        claveRecortada = claveRepetida[:longitudMinima] #slicing toma solo la parte de la clave que es del tamaño del texto en claro\n",
        "        return claveRecortada\n",
        "\n"
      ]
    },
    {
      "cell_type": "markdown",
      "id": "6fe718af-83ab-4159-9195-78353d6a65ce",
      "metadata": {
        "id": "6fe718af-83ab-4159-9195-78353d6a65ce"
      },
      "source": [
        "También se puede implementar un preprocesador de textos para quitar tildes, espacios o signos de puntuación utilizando una clase `ProcesadorTexto`, el que se muestra a continuación es un prototipo, en los ejemplos posteriores solo se utilizarán cadenas ya procesadas sin espacios ni tildes y todas en mayúsculas."
      ]
    },
    {
      "cell_type": "code",
      "execution_count": null,
      "id": "fbfe5ae0-c801-408a-8f12-40f619937d89",
      "metadata": {
        "id": "fbfe5ae0-c801-408a-8f12-40f619937d89"
      },
      "outputs": [],
      "source": [
        "class ProcesadorTexto:\n",
        "    def procesar(texto):\n",
        "        '''procesarTexto(...)->str\n",
        "        Elimina los espacios y pone en mayúscula el texto'''\n",
        "        textSinEspacios = ''.join(texto.split())\n",
        "        textSinEspacios.upper()\n",
        "        return textSinEspacios\n",
        "    def quitarTildes(self, texto):\n",
        "        pass"
      ]
    },
    {
      "cell_type": "markdown",
      "id": "0e8159a7-79be-4896-8a72-2808db1aa574",
      "metadata": {
        "id": "0e8159a7-79be-4896-8a72-2808db1aa574"
      },
      "source": [
        "Para cifrar instanciamos un objeto de tipo CifradorVigener, con un alfabeto en español e invocamos al método cifrar"
      ]
    },
    {
      "cell_type": "code",
      "execution_count": null,
      "id": "bfc677a4-6749-4ba3-9706-324fdeb79afd",
      "metadata": {
        "id": "bfc677a4-6749-4ba3-9706-324fdeb79afd"
      },
      "outputs": [],
      "source": [
        "cvigener = CifradorVigener('ABCDEFGHIJKLMNÑOPQRSTUVWXYZ')"
      ]
    },
    {
      "cell_type": "code",
      "execution_count": null,
      "id": "99958850-bb54-4f20-b065-6c7be7a4bac1",
      "metadata": {
        "tags": [],
        "colab": {
          "base_uri": "https://localhost:8080/",
          "height": 36
        },
        "id": "99958850-bb54-4f20-b065-6c7be7a4bac1",
        "outputId": "ea6ad9f6-0a93-40fe-df97-64881628f396"
      },
      "outputs": [
        {
          "output_type": "execute_result",
          "data": {
            "text/plain": [
              "'VSLSHMKSFNQDWOKWBENGNKDS'"
            ],
            "application/vnd.google.colaboratory.intrinsic+json": {
              "type": "string"
            }
          },
          "metadata": {},
          "execution_count": 11
        }
      ],
      "source": [
        "cvigener.cifrar('DESASTRE NUCLEAR EN MURUROA','SOS')"
      ]
    },
    {
      "cell_type": "markdown",
      "id": "4ddfe22c-86a6-4e6f-8eb1-0fa584632cd8",
      "metadata": {
        "id": "4ddfe22c-86a6-4e6f-8eb1-0fa584632cd8"
      },
      "source": [
        "El mismo cifrador también es capaz de descifrar"
      ]
    },
    {
      "cell_type": "code",
      "execution_count": null,
      "id": "0a717ff0-aea1-45f7-b820-6bd53b18dd00",
      "metadata": {
        "tags": [],
        "colab": {
          "base_uri": "https://localhost:8080/",
          "height": 36
        },
        "id": "0a717ff0-aea1-45f7-b820-6bd53b18dd00",
        "outputId": "84370eb3-5e01-42fc-e27e-20cbabef8cb1"
      },
      "outputs": [
        {
          "output_type": "execute_result",
          "data": {
            "text/plain": [
              "'DESASTRENUCLEARENMURUROA'"
            ],
            "application/vnd.google.colaboratory.intrinsic+json": {
              "type": "string"
            }
          },
          "metadata": {},
          "execution_count": 12
        }
      ],
      "source": [
        "cvigener.descifrar('VSLSHMKSFNQDWOKWBENGNKDS', 'SOS')"
      ]
    },
    {
      "cell_type": "markdown",
      "id": "1a8b3d32-8b43-4c8d-822e-4b33718ac800",
      "metadata": {
        "id": "1a8b3d32-8b43-4c8d-822e-4b33718ac800"
      },
      "source": [
        "## Ejercicio\n",
        "1. El cifrador *autoclave* es una variante del cifrador *vigenere*, donde la clave no se repite para generar la secuencia cifrante, sino que se escribe sólo una vez y el resto de la clave es el mismo mensaje en claro. Implemente una variante de la clase `CifradorVigener` llamada `CifradorAutoclave` redefiniendo su método `ProcesarClave`.\n",
        "\n",
        "2. Implemente el método `descifrar` de la clase `CifradorAutoclave` que implementó en el ejercicio 1."
      ]
    }
  ],
  "metadata": {
    "kernelspec": {
      "display_name": "Python 3 (ipykernel)",
      "language": "python",
      "name": "python3"
    },
    "language_info": {
      "codemirror_mode": {
        "name": "ipython",
        "version": 3
      },
      "file_extension": ".py",
      "mimetype": "text/x-python",
      "name": "python",
      "nbconvert_exporter": "python",
      "pygments_lexer": "ipython3",
      "version": "3.7.4"
    },
    "colab": {
      "provenance": [],
      "collapsed_sections": []
    }
  },
  "nbformat": 4,
  "nbformat_minor": 5
}
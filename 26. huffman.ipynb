{
  "cells": [
    {
      "cell_type": "markdown",
      "id": "484befc3-ce52-4722-bf58-9f13a56703e4",
      "metadata": {
        "tags": [],
        "id": "484befc3-ce52-4722-bf58-9f13a56703e4"
      },
      "source": [
        "# Codificación Huffman\n"
      ]
    },
    {
      "cell_type": "markdown",
      "id": "714134dc-2dcc-44c3-ae87-5b55d2e6f36b",
      "metadata": {
        "id": "714134dc-2dcc-44c3-ae87-5b55d2e6f36b"
      },
      "source": [
        "Para la codificación Huffman necesitamos poder representar el árbol, para esto se puede implementar una clase `Nodo` en base al cual se puede construir un árbol enlazando unos nodos con otros. Este es un nodo genérico que se puede utilizar para cualquier árbol binario."
      ]
    },
    {
      "cell_type": "code",
      "execution_count": null,
      "id": "08b93708-62e3-4738-b735-80fd95321e3f",
      "metadata": {
        "id": "08b93708-62e3-4738-b735-80fd95321e3f"
      },
      "outputs": [],
      "source": [
        "class Nodo:\n",
        "    def __init__(self, v):\n",
        "        self.valor = v\n",
        "        self.izquierda = None\n",
        "        self.derecha = None\n",
        "        \n",
        "    def esHoja(self):\n",
        "        if (self.izquierda ==None and self.derecha == None):\n",
        "            return True\n",
        "        return False"
      ]
    },
    {
      "cell_type": "markdown",
      "id": "4965e21d-c4fb-4e28-93cc-7857a41c0587",
      "metadata": {
        "id": "4965e21d-c4fb-4e28-93cc-7857a41c0587"
      },
      "source": [
        "Podemos probarlo construyendo un árbol cualquiera"
      ]
    },
    {
      "cell_type": "code",
      "execution_count": null,
      "id": "97076a32-00ba-4395-b461-f3a5bb7a26b9",
      "metadata": {
        "colab": {
          "base_uri": "https://localhost:8080/"
        },
        "id": "97076a32-00ba-4395-b461-f3a5bb7a26b9",
        "outputId": "1af5bd19-e6b7-4d51-af38-b9144fa4ca36"
      },
      "outputs": [
        {
          "output_type": "execute_result",
          "data": {
            "text/plain": [
              "True"
            ]
          },
          "metadata": {},
          "execution_count": 2
        }
      ],
      "source": [
        "raiz = Nodo(\"Padre\")\n",
        "raiz.izquierda = Nodo(\"hijo1\")\n",
        "raiz.derecha = Nodo(\"hijo2\")\n",
        "raiz.izquierda.esHoja()"
      ]
    },
    {
      "cell_type": "markdown",
      "id": "482d4973-3622-49a3-ac2b-a5abb8c6e3e8",
      "metadata": {
        "id": "482d4973-3622-49a3-ac2b-a5abb8c6e3e8"
      },
      "source": [
        "Pero el nodo que necesitamos para la codificación debe incluir además del valor la frecuencia con la que aparece ese símbolo en la cadena que se codifica. Para esto derivamos una clase de `Nodo` llamada `NodoHuffman`. Implementando un método que permita fusionar nodos para agregar 0s o 1s. Para esto sobrecargamos el método `__add__` que nos permite utilizar el operador `+` con los nodos."
      ]
    },
    {
      "cell_type": "code",
      "execution_count": null,
      "id": "8e491f62-f359-4387-b8bf-bb98ca77064d",
      "metadata": {
        "id": "8e491f62-f359-4387-b8bf-bb98ca77064d"
      },
      "outputs": [],
      "source": [
        "class NodoHuffman(Nodo):\n",
        "    def __init__(self, v, f):\n",
        "        Nodo.__init__(self, v)\n",
        "        self.frecuencia = f\n",
        "        \n",
        "    def __add__(self, n):\n",
        "        return NodoHuffman(self.valor + n.valor, self.frecuencia+n.frecuencia);"
      ]
    },
    {
      "cell_type": "markdown",
      "id": "77227845-dbb2-4a20-9b8b-ed859d5696e3",
      "metadata": {
        "id": "77227845-dbb2-4a20-9b8b-ed859d5696e3"
      },
      "source": [
        "Vamos a insntanciar algunos nodos Huffman y probar como se fusionan. El nodo resultante tiene como valor la concatenación de los valores de los sumandos y la frecuencia es la suma de las frecuencias de los sumandos."
      ]
    },
    {
      "cell_type": "code",
      "execution_count": null,
      "id": "836dc898-9e34-48cb-89cd-02dfa7d68f49",
      "metadata": {
        "tags": [],
        "colab": {
          "base_uri": "https://localhost:8080/"
        },
        "id": "836dc898-9e34-48cb-89cd-02dfa7d68f49",
        "outputId": "6c295352-c9c8-49f4-dbd6-79f1b2374a99"
      },
      "outputs": [
        {
          "output_type": "stream",
          "name": "stdout",
          "text": [
            "AB 8\n"
          ]
        }
      ],
      "source": [
        "nh1 = NodoHuffman('A', 3)\n",
        "nh2 = NodoHuffman('B', 5)\n",
        "nh3 = nh1 + nh2\n",
        "print(nh3.valor, nh3.frecuencia)"
      ]
    },
    {
      "cell_type": "markdown",
      "id": "95673549-b76f-48e6-9a1e-7020fa7cfb85",
      "metadata": {
        "id": "95673549-b76f-48e6-9a1e-7020fa7cfb85"
      },
      "source": [
        "El codificador se implementa con la clase `Huffman` que contiene los métodos que permiten construir el árbol en base a los símbolos de la cadena a codificar, y las frecuencias de estos."
      ]
    },
    {
      "cell_type": "code",
      "execution_count": null,
      "id": "74cc84b9-7c3a-418b-ba64-08c26db066e8",
      "metadata": {
        "id": "74cc84b9-7c3a-418b-ba64-08c26db066e8"
      },
      "outputs": [],
      "source": [
        "class Huffman:\n",
        "    def __init__(self, mensaje):\n",
        "        self.codigos = {}  #Diccionario con los códigos calculados\n",
        "        self.simbolos = None  #lista de NodoHuffman(s) de símbolos y frecuencias\n",
        "        self.arbol = None\n",
        "        self.contarFrecuencias(mensaje)\n",
        "        self.generaArbol()\n",
        "        self.generahuffman(self.arbol)\n",
        "\n",
        "    def contarFrecuencias(self, texto):\n",
        "        '''\n",
        "        Crea una lista de NodoHuffman(s) cada uno con su símbolo y su frecuencia\n",
        "\n",
        "        Parameters\n",
        "        ----------\n",
        "        texto : el string a codificar\n",
        "\n",
        "        Returns\n",
        "        -------\n",
        "        None.\n",
        "\n",
        "        '''\n",
        "        letras = [l for l in texto]\n",
        "        unicas = set(letras)   #Poniendolo en un conjunto se eliminan los duplicados\n",
        "        self.simbolos = [ NodoHuffman(l, texto.count(l)) for l in unicas]\n",
        "\n",
        "    def frecuencia(self, n):\n",
        "        return n.frecuencia\n",
        "\n",
        "    def generaArbol(self):\n",
        "        '''\n",
        "        Acomoda los nodos en un arbol binario en base a las frecuencias \n",
        "\n",
        "        Returns\n",
        "        -------\n",
        "        None.\n",
        "\n",
        "        '''\n",
        "        frecuencias = self.simbolos\n",
        "        frecuencias.sort(key=self.frecuencia)  #ordena los nodos por frecuencias \n",
        "        while(len(frecuencias)>1):\n",
        "            Padre = frecuencias[0]+frecuencias[1]\n",
        "            Padre.izquierda = frecuencias[0]\n",
        "            Padre.derecha = frecuencias[1]\n",
        "            frecuencias = [Padre]+frecuencias[2:]\n",
        "            frecuencias.sort(key=self.frecuencia)\n",
        "        self.arbol = frecuencias[0]  #asigna el primer nodo como raiz del arbol\n",
        "\n",
        "    def generahuffman(self, arbol, codigo=''):\n",
        "        '''\n",
        "        Gerera los códigos Huffman para cada nodo del árbol, recorriendo el \n",
        "        arbol de forma recursiva. Los códigos se registran en el diccionario\n",
        "        de códigos.\n",
        "\n",
        "        Parameters\n",
        "        ----------\n",
        "        arbol : Recibel el nodo que hace de raiz del subarbol.\n",
        "        codigo : Recibe el código calculado hasta antes de la recursión\n",
        "\n",
        "        Returns\n",
        "        -------\n",
        "        codigo : El código huffman calculado hasta el nodo.\n",
        "\n",
        "        '''\n",
        "        if arbol.esHoja():\n",
        "            self.codigos.setdefault(arbol.valor, codigo)\n",
        "            return codigo\n",
        "        self.generahuffman(arbol.derecha, codigo+'0')  # 0 + subarbol derecho\n",
        "        self.generahuffman(arbol.izquierda, codigo + '1') # 1 + subarbol izquierdo\n",
        "        \n",
        "    def __str__(self):\n",
        "        codstring = \"\"\n",
        "        for c in self.codigos:\n",
        "            codstring += \"{} : {} \\n\".format(c,self.codigos[c])\n",
        "        return codstring\n",
        "    \n",
        "    def codifica(self):\n",
        "        '''\n",
        "        Devuelve la cadena codificada con la codificación Huffman contenida en el diccionario self.codigos\n",
        "        \n",
        "        Returns\n",
        "        -------\n",
        "        codigo : El código huffman calculado hasta el nodo. P.ejm. \n",
        "            \"000010101010101000001010100111111101010101010101\"\n",
        "        '''\n",
        "        pass"
      ]
    },
    {
      "cell_type": "markdown",
      "id": "a378d502-6255-441f-a37b-a453cb39cfdd",
      "metadata": {
        "tags": [],
        "id": "a378d502-6255-441f-a37b-a453cb39cfdd"
      },
      "source": [
        "Utilizamos la clase `Huffman` para codificar una cadena, la clase está programada para que haga todos los cálculos al momento de instanciarse, debido a que se calcula un código Huffman para cada cadena, el codificador se instancia por única vez para cada secuencia."
      ]
    },
    {
      "cell_type": "code",
      "execution_count": null,
      "id": "10b7585a-c67f-45f2-b170-713a9862f042",
      "metadata": {
        "colab": {
          "base_uri": "https://localhost:8080/"
        },
        "id": "10b7585a-c67f-45f2-b170-713a9862f042",
        "outputId": "51251bb8-beb1-4468-c3f7-43d9eece3fb7"
      },
      "outputs": [
        {
          "output_type": "stream",
          "name": "stdout",
          "text": [
            "{'M': '00000', 'O': '00001', 'I': '00010', 'C': '00011', ' ': '001', 'S': '0100', 'J': '010100', 'L': '010101', 'H': '010110', 'B': '010111', 'N': '0110', 'R': '0111', 'A': '100', 'E': '101', 'P': '11000', 'T': '11001', 'F': '1101', 'U': '1110', 'D': '1111'}\n"
          ]
        }
      ],
      "source": [
        "H = Huffman('ESTE ES UN MENSAJE DE PRUEBA PARA DEMOSTRAR LA CODIFICACION HUFFMAN')\n",
        "codigos = H.codigos\n",
        "print(codigos)"
      ]
    },
    {
      "cell_type": "markdown",
      "id": "de47b5f0-d366-48e3-a25b-4c54d0b6c967",
      "metadata": {
        "id": "de47b5f0-d366-48e3-a25b-4c54d0b6c967"
      },
      "source": [
        "Este diccionario será utilizado luego para generar la secuencia codificada. pero si queremos verlo de forma ordenada lo podemos hacer gracias a que hemos sobrecargado el método `__str__()` y obtener una versión amigable de los códigos."
      ]
    },
    {
      "cell_type": "code",
      "execution_count": null,
      "id": "8d975f3a-cf23-4185-b743-9b53933af997",
      "metadata": {
        "id": "8d975f3a-cf23-4185-b743-9b53933af997",
        "outputId": "1f577aab-7d0c-4e0c-cfb4-bd45b46c4a4d",
        "colab": {
          "base_uri": "https://localhost:8080/"
        }
      },
      "outputs": [
        {
          "output_type": "stream",
          "name": "stdout",
          "text": [
            "M : 00000 \n",
            "O : 00001 \n",
            "I : 00010 \n",
            "C : 00011 \n",
            "  : 001 \n",
            "S : 0100 \n",
            "J : 010100 \n",
            "L : 010101 \n",
            "H : 010110 \n",
            "B : 010111 \n",
            "N : 0110 \n",
            "R : 0111 \n",
            "A : 100 \n",
            "E : 101 \n",
            "P : 11000 \n",
            "T : 11001 \n",
            "F : 1101 \n",
            "U : 1110 \n",
            "D : 1111 \n",
            "\n"
          ]
        }
      ],
      "source": [
        "print(H)"
      ]
    },
    {
      "cell_type": "markdown",
      "id": "0fbaff6b-a39b-4563-825e-241f86ad94e6",
      "metadata": {
        "id": "0fbaff6b-a39b-4563-825e-241f86ad94e6"
      },
      "source": [
        "## Ejercicio\n",
        "1. Implemente el método `codifica` de la clase `Huffman`.\n",
        "2. Implemente una función `decodificar(codigos, seqcodificada)` (fuera de la clase `Huffman`) que reciba un diccionario con los códigos de cada símbolo y una secuencia codificada  y en base a estas reconstruya el mensaje original.\n",
        "3. Modifique la definición del método `__str__` de la clase `Huffman` para que muestre los códigos de forma que se aprecie la forma del árbol. (Sugerencia: utilice recursividad)\n",
        "4. Descargue el libro [Don Quijote de la Mancha](https://gist.githubusercontent.com/jsdario/6d6c69398cb0c73111e49f1218960f79/raw/8d4fc4548d437e2a7203a5aeeace5477f598827d/el_quijote.txt) y comprímalo utilizándo codificación Huffman. Luego descomprímalo y verifique que no ha perdido datos."
      ]
    }
  ],
  "metadata": {
    "kernelspec": {
      "display_name": "Python 3 (ipykernel)",
      "language": "python",
      "name": "python3"
    },
    "language_info": {
      "codemirror_mode": {
        "name": "ipython",
        "version": 3
      },
      "file_extension": ".py",
      "mimetype": "text/x-python",
      "name": "python",
      "nbconvert_exporter": "python",
      "pygments_lexer": "ipython3",
      "version": "3.7.4"
    },
    "colab": {
      "provenance": [],
      "collapsed_sections": []
    }
  },
  "nbformat": 4,
  "nbformat_minor": 5
}
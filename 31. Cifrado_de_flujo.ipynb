{
  "cells": [
    {
      "cell_type": "markdown",
      "id": "a7b4ed80-dccb-48e4-9c78-7a51394c5a1e",
      "metadata": {
        "id": "a7b4ed80-dccb-48e4-9c78-7a51394c5a1e"
      },
      "source": [
        "# Conversión entre Hexdigest y Plaintext\n",
        "Como vamos a aplicar las operaciones con operaciones XOR entre bits, necesitamos codificar nuestro texto claro a un array de bytes."
      ]
    },
    {
      "cell_type": "code",
      "execution_count": null,
      "id": "c8402a66-3f73-4601-9599-a7c2f7c59f4a",
      "metadata": {
        "colab": {
          "base_uri": "https://localhost:8080/"
        },
        "id": "c8402a66-3f73-4601-9599-a7c2f7c59f4a",
        "outputId": "0df4d2fb-8e9e-40dd-b790-c803dc20b07a"
      },
      "outputs": [
        {
          "output_type": "stream",
          "name": "stdout",
          "text": [
            "b'apples are red'\n"
          ]
        }
      ],
      "source": [
        "import binascii\n",
        "password = b\"apples are red\"\n",
        "print(password)"
      ]
    },
    {
      "cell_type": "code",
      "execution_count": null,
      "id": "80a59d3d-dc1d-463f-96e9-c61d77f0c1da",
      "metadata": {
        "id": "80a59d3d-dc1d-463f-96e9-c61d77f0c1da"
      },
      "outputs": [],
      "source": [
        "passhex =  binascii.hexlify(password)"
      ]
    },
    {
      "cell_type": "code",
      "execution_count": null,
      "id": "6932e5b9-f23c-46e0-a8f2-4155edbb3190",
      "metadata": {
        "colab": {
          "base_uri": "https://localhost:8080/"
        },
        "id": "6932e5b9-f23c-46e0-a8f2-4155edbb3190",
        "outputId": "e9b06e98-6f90-4c19-99e7-447e39f95f4d"
      },
      "outputs": [
        {
          "output_type": "stream",
          "name": "stdout",
          "text": [
            "b'6170706c65732061726520726564'\n"
          ]
        }
      ],
      "source": [
        "print(passhex)"
      ]
    },
    {
      "cell_type": "code",
      "execution_count": null,
      "id": "a8501a47-c5a3-47fa-ac8a-41ee947c64dd",
      "metadata": {
        "id": "a8501a47-c5a3-47fa-ac8a-41ee947c64dd",
        "outputId": "b8d0c83f-e613-4fc1-ae7f-4e2debd1401c"
      },
      "outputs": [
        {
          "name": "stdout",
          "output_type": "stream",
          "text": [
            "28\n"
          ]
        }
      ],
      "source": [
        "print(len(passhex))"
      ]
    },
    {
      "cell_type": "markdown",
      "id": "499c3a9f-91e5-44d9-8f29-4dc764eaca41",
      "metadata": {
        "id": "499c3a9f-91e5-44d9-8f29-4dc764eaca41"
      },
      "source": [
        "Habrás notad oque el primer dìgito de la variable passhex es igual a 61; si nos fijamos en la tabla de caracteres ASCII. Para demostrar cómo convertir de caracter a hexadecimal"
      ]
    },
    {
      "cell_type": "code",
      "execution_count": null,
      "id": "07380985-fe0f-42d1-863d-bb436b53cdd0",
      "metadata": {
        "colab": {
          "base_uri": "https://localhost:8080/"
        },
        "id": "07380985-fe0f-42d1-863d-bb436b53cdd0",
        "outputId": "3debc71e-cad1-45e3-92d5-58e617727826"
      },
      "outputs": [
        {
          "output_type": "stream",
          "name": "stdout",
          "text": [
            "97\n"
          ]
        }
      ],
      "source": [
        "print(ord('a'))"
      ]
    },
    {
      "cell_type": "code",
      "execution_count": null,
      "id": "dd63b2ef-4219-41e9-98a9-ec22bca324fb",
      "metadata": {
        "colab": {
          "base_uri": "https://localhost:8080/",
          "height": 166
        },
        "id": "dd63b2ef-4219-41e9-98a9-ec22bca324fb",
        "outputId": "a2dbe132-4e82-4a6f-c858-fa52dd337233"
      },
      "outputs": [
        {
          "output_type": "error",
          "ename": "TypeError",
          "evalue": "ignored",
          "traceback": [
            "\u001b[0;31m---------------------------------------------------------------------------\u001b[0m",
            "\u001b[0;31mTypeError\u001b[0m                                 Traceback (most recent call last)",
            "\u001b[0;32m<ipython-input-36-2bec909f3197>\u001b[0m in \u001b[0;36m<module>\u001b[0;34m()\u001b[0m\n\u001b[0;32m----> 1\u001b[0;31m \u001b[0mprint\u001b[0m\u001b[0;34m(\u001b[0m\u001b[0mhex\u001b[0m\u001b[0;34m(\u001b[0m\u001b[0;36m97\u001b[0m\u001b[0;34m)\u001b[0m\u001b[0;34m)\u001b[0m\u001b[0;34m\u001b[0m\u001b[0;34m\u001b[0m\u001b[0m\n\u001b[0m",
            "\u001b[0;31mTypeError\u001b[0m: 'int' object is not callable"
          ]
        }
      ],
      "source": [
        "print(hex(97))"
      ]
    },
    {
      "cell_type": "code",
      "execution_count": null,
      "id": "70d3896b-7046-4769-9872-818d9b450752",
      "metadata": {
        "colab": {
          "base_uri": "https://localhost:8080/"
        },
        "id": "70d3896b-7046-4769-9872-818d9b450752",
        "outputId": "b867f2a3-c2a7-4531-f979-e51be4c17bef"
      },
      "outputs": [
        {
          "output_type": "stream",
          "name": "stdout",
          "text": [
            "61\n"
          ]
        }
      ],
      "source": [
        "print(format(ord('a'), 'x'))"
      ]
    },
    {
      "cell_type": "markdown",
      "id": "c3e85866-e129-4d69-b175-caf07fd4b73b",
      "metadata": {
        "id": "c3e85866-e129-4d69-b175-caf07fd4b73b"
      },
      "source": [
        "La función unhexlify hace lo contrario y convierte un hexadecimal a un array de bits"
      ]
    },
    {
      "cell_type": "code",
      "execution_count": null,
      "id": "51e06584-3214-41cf-8817-e14ea81d73a6",
      "metadata": {
        "tags": [],
        "colab": {
          "base_uri": "https://localhost:8080/"
        },
        "id": "51e06584-3214-41cf-8817-e14ea81d73a6",
        "outputId": "5127d043-b7d3-4f4d-d6b7-78da4da99e52"
      },
      "outputs": [
        {
          "output_type": "execute_result",
          "data": {
            "text/plain": [
              "b'apples are red'"
            ]
          },
          "metadata": {},
          "execution_count": 39
        }
      ],
      "source": [
        "unpasshex = binascii.unhexlify(passhex)\n",
        "unpasshex"
      ]
    },
    {
      "cell_type": "markdown",
      "id": "d928f74f-e20e-4bd2-bd91-70bf50d3db0a",
      "metadata": {
        "id": "d928f74f-e20e-4bd2-bd91-70bf50d3db0a"
      },
      "source": [
        "Python permite que uses un caracter de escapa para convertir de hexadecimal a texto plano"
      ]
    },
    {
      "cell_type": "code",
      "execution_count": null,
      "id": "17e1908e-4c76-493a-a1d8-e1528295d05d",
      "metadata": {
        "tags": [],
        "colab": {
          "base_uri": "https://localhost:8080/",
          "height": 35
        },
        "id": "17e1908e-4c76-493a-a1d8-e1528295d05d",
        "outputId": "ec73da6d-0154-4528-dabe-ff2826a2136e"
      },
      "outputs": [
        {
          "output_type": "execute_result",
          "data": {
            "text/plain": [
              "'a'"
            ],
            "application/vnd.google.colaboratory.intrinsic+json": {
              "type": "string"
            }
          },
          "metadata": {},
          "execution_count": 38
        }
      ],
      "source": [
        "hx = '\\x61'\n",
        "hx"
      ]
    },
    {
      "cell_type": "markdown",
      "id": "aa7f4d29-0e32-4da7-a8fd-e1f43c9aadbf",
      "metadata": {
        "id": "aa7f4d29-0e32-4da7-a8fd-e1f43c9aadbf"
      },
      "source": [
        "El proceso anterior tambien se puede hacer utilizando solamente las funciones nativas de Python"
      ]
    },
    {
      "cell_type": "code",
      "execution_count": null,
      "id": "fc97d504-624a-4840-9af8-25c58de5f198",
      "metadata": {
        "colab": {
          "base_uri": "https://localhost:8080/"
        },
        "id": "fc97d504-624a-4840-9af8-25c58de5f198",
        "outputId": "a01e084d-5af1-4d96-e513-815cb3f1f158"
      },
      "outputs": [
        {
          "output_type": "stream",
          "name": "stdout",
          "text": [
            "b'apples are red'\n",
            "[97, 112, 112, 108, 101, 115, 32, 97, 114, 101, 32, 114, 101, 100]\n",
            "6170706c65732061726520726564\n"
          ]
        }
      ],
      "source": [
        "password = \"apples are red\"\n",
        "pswd_bits = password.encode()\n",
        "print(pswd_bits)\n",
        "print(list(pswd_bits))\n",
        "pswd_bits_hex = pswd_bits.hex()\n",
        "print(pswd_bits_hex)"
      ]
    },
    {
      "cell_type": "markdown",
      "id": "ca611955-bba9-4878-90fc-80932d8e3721",
      "metadata": {
        "id": "ca611955-bba9-4878-90fc-80932d8e3721"
      },
      "source": [
        "Y el proceso contrario"
      ]
    },
    {
      "cell_type": "code",
      "execution_count": null,
      "id": "5735166a-25f0-4cd5-aada-33cd23474c42",
      "metadata": {
        "id": "5735166a-25f0-4cd5-aada-33cd23474c42",
        "outputId": "97dcdb37-fa0f-4ba8-f7a1-a212fa6e9bb8"
      },
      "outputs": [
        {
          "name": "stdout",
          "output_type": "stream",
          "text": [
            "b'apples are red'\n",
            "apples are red\n"
          ]
        }
      ],
      "source": [
        "pswd_bits = bytes.fromhex(pswd_bits_hex)\n",
        "print(pswd_bits)\n",
        "password = pswd_bits.decode()\n",
        "print(password)"
      ]
    },
    {
      "cell_type": "markdown",
      "id": "68396286-649d-436b-b6b5-190b8b7bca2d",
      "metadata": {
        "id": "68396286-649d-436b-b6b5-190b8b7bca2d"
      },
      "source": [
        "# Implementando un cifrador de flujo\n",
        "Vamos a implementar una solución que combinaa un bloque de un solo usao (OTP) con un generador seudoaleatorio cripográficamente seguro (CSPRNG). Y aplicarlo mediante una operación XOR para las operaciones de encriptación y desencriptación.\n",
        "* Necesitamos intercambiar la clave entre el emisor y receptor como en todos los esquemas simétricos.\n",
        "* La clave se puede usar sólo una vez.\n",
        "* la longitud de la clave es igual a la longitud del mensaje.\n",
        "Por el momento vamos a utilizar un generador sencillo para comprender el mecanismo y luego. \n",
        "Lo utilizaremos para encriptar caracteres ASCII, por lo que tenemos que pensar en bytes aleatorios en lugar de bits aleatorios.\n",
        "La funcion crand() genera números de 31 bits, pero podemos "
      ]
    },
    {
      "cell_type": "code",
      "execution_count": null,
      "id": "ac5c4868-610c-4724-b364-e9a10e01096d",
      "metadata": {
        "colab": {
          "base_uri": "https://localhost:8080/"
        },
        "id": "ac5c4868-610c-4724-b364-e9a10e01096d",
        "outputId": "4454cdae-fce6-46d9-9c56-deadd71f21cd"
      },
      "outputs": [
        {
          "output_type": "stream",
          "name": "stdout",
          "text": [
            "[1471611625, 1204518815, 463882823, 963005816]\n"
          ]
        }
      ],
      "source": [
        "def crand(seed):\n",
        "    r=[]\n",
        "    r.append(seed)\n",
        "    for i in range(30):\n",
        "        r.append((16807*r[-1]) % 2147483647)\n",
        "        if r[-1] < 0:\n",
        "            r[-1] += 2147483647\n",
        "    for i in range(31, 34):\n",
        "        r.append(r[len(r)-31])\n",
        "    for i in range(34, 344):\n",
        "        r.append((r[len(r)-31] + r[len(r)-3]) % 2**32)\n",
        "    while True:\n",
        "        next = r[len(r)-31]+r[len(r)-3] % 2**32\n",
        "        r.append(next)\n",
        "        yield (next >> 1 if next < 2**32 else (next % 2**32) >> 1)\n",
        "\n",
        "mygen = crand(2018)\n",
        "firstfour = [next(mygen) for i in range(4)]\n",
        "print(firstfour)"
      ]
    },
    {
      "cell_type": "code",
      "execution_count": null,
      "id": "581104c4-b93d-4a8f-9508-ecc8521aa226",
      "metadata": {
        "id": "581104c4-b93d-4a8f-9508-ecc8521aa226",
        "outputId": "4ac18163-3b27-4c92-cb3d-adb5af9ef0bd"
      },
      "outputs": [
        {
          "data": {
            "text/plain": [
              "'a6f2eb3c80552a4fb0c9773c'"
            ]
          },
          "execution_count": 11,
          "metadata": {},
          "output_type": "execute_result"
        }
      ],
      "source": [
        "rands = [next(mygen) for i in range(4)]\n",
        "plaintext = b\"Hello world!\"\n",
        "\n",
        "hexplain = binascii.hexlify(plaintext)\n",
        "hexkey = \"\".join(map(lambda x: format(x, 'x')[-6:], rands))\n",
        "\n",
        "cipher_as_int = int(hexplain, 16) ^ int(hexkey, 16)\n",
        "cipher_as_hex = format(cipher_as_int, 'x')\n",
        "\n",
        "cipher_as_hex"
      ]
    },
    {
      "cell_type": "code",
      "execution_count": null,
      "id": "2d5289ec-4d3d-4868-81e8-d52a36497ca7",
      "metadata": {
        "id": "2d5289ec-4d3d-4868-81e8-d52a36497ca7",
        "outputId": "0f26b26a-69e7-4b92-de63-fab263000d11"
      },
      "outputs": [
        {
          "data": {
            "text/plain": [
              "b'Hello world!'"
            ]
          },
          "execution_count": 19,
          "metadata": {},
          "output_type": "execute_result"
        }
      ],
      "source": [
        "cipher_as_int = int(cipher_as_hex, 16)\n",
        "cipher_as_int\n",
        "\n",
        "plain_text_int = cipher_as_int ^ int(hexkey, 16)\n",
        "plain_text_hex = format(plain_text_int, 'x')\n",
        "plain_text = binascii.unhexlify(plain_text_hex)\n",
        "\n",
        "plain_text"
      ]
    },
    {
      "cell_type": "markdown",
      "source": [
        "En resumen se está haciendo una operación a nivel de bits, mas o menos así"
      ],
      "metadata": {
        "id": "nObyR2XtsPt_"
      },
      "id": "nObyR2XtsPt_"
    },
    {
      "cell_type": "code",
      "source": [
        "mensaje = 12345364567586754756745675475685467\n",
        "print(\"Mensaje  :\", format(mensaje, 'b'))\n",
        "s = 254754786786786786786786786785564\n",
        "print(\"Sec.seudo:\",format(s, 'b'))\n",
        "C = mensaje ^ s\n",
        "print(\"Cifrado  :\",format(C,'b'))\n",
        "M = C^s\n",
        "print(\"Descifrado  :\",format(M,'b'))"
      ],
      "metadata": {
        "id": "clhUWfvwsU5n"
      },
      "id": "clhUWfvwsU5n",
      "execution_count": null,
      "outputs": []
    }
  ],
  "metadata": {
    "kernelspec": {
      "display_name": "Python 3 (ipykernel)",
      "language": "python",
      "name": "python3"
    },
    "language_info": {
      "codemirror_mode": {
        "name": "ipython",
        "version": 3
      },
      "file_extension": ".py",
      "mimetype": "text/x-python",
      "name": "python",
      "nbconvert_exporter": "python",
      "pygments_lexer": "ipython3",
      "version": "3.7.4"
    },
    "colab": {
      "provenance": [],
      "collapsed_sections": []
    }
  },
  "nbformat": 4,
  "nbformat_minor": 5
}
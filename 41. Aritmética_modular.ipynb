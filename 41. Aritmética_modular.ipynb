{
  "cells": [
    {
      "cell_type": "markdown",
      "id": "ba15ea6e-579e-4f7e-b8ed-81b534b1baa7",
      "metadata": {
        "id": "ba15ea6e-579e-4f7e-b8ed-81b534b1baa7"
      },
      "source": [
        "# Aritmética modular\n",
        "## Congruencia\n",
        "Podemos verificar si $b\\equiv a\\ mod \\ n$"
      ]
    },
    {
      "cell_type": "code",
      "execution_count": null,
      "id": "990255da-6e76-4812-9074-d9330c649565",
      "metadata": {
        "tags": [],
        "id": "990255da-6e76-4812-9074-d9330c649565",
        "outputId": "da5e112f-f388-4a48-ca03-c325afb66d18"
      },
      "outputs": [
        {
          "data": {
            "text/plain": [
              "True"
            ]
          },
          "execution_count": 6,
          "metadata": {},
          "output_type": "execute_result"
        }
      ],
      "source": [
        "def es_congruente(b, a, n):\n",
        "    ''' verifica si b es congruente con a mod n\n",
        "    '''\n",
        "    if (b - a) % n == 0:\n",
        "        return True\n",
        "    return False\n",
        "    \n",
        "es_congruente(14, 5, 3)"
      ]
    },
    {
      "cell_type": "markdown",
      "id": "f6c8ca2f-fe8a-41ae-9199-ab5c473447a9",
      "metadata": {
        "tags": [],
        "id": "f6c8ca2f-fe8a-41ae-9199-ab5c473447a9"
      },
      "source": [
        "## Exponenciación binaria"
      ]
    },
    {
      "cell_type": "code",
      "execution_count": null,
      "id": "ba177c2f-99e4-40a2-9836-7dd4868781d4",
      "metadata": {
        "colab": {
          "base_uri": "https://localhost:8080/"
        },
        "id": "ba177c2f-99e4-40a2-9836-7dd4868781d4",
        "outputId": "6b5bda1b-94a8-41e7-d2e8-73de10ef7e33"
      },
      "outputs": [
        {
          "output_type": "execute_result",
          "data": {
            "text/plain": [
              "24"
            ]
          },
          "metadata": {},
          "execution_count": 42
        }
      ],
      "source": [
        "def exp_mod(a,e,n):\n",
        "    accum = 1; i = 0; apow2 = a\n",
        "    while ((e>>i)>0):\n",
        "        if ((e>>i) & 1):\n",
        "            accum = (accum*apow2) % n\n",
        "        apow2 = (apow2*apow2) % n\n",
        "        i += 1\n",
        "    return accum\n",
        "\n",
        "exp_mod(19, 83, 91)"
      ]
    },
    {
      "cell_type": "markdown",
      "id": "bcaa6019-a895-4b7b-b1df-df6560d8e9ed",
      "metadata": {
        "id": "bcaa6019-a895-4b7b-b1df-df6560d8e9ed"
      },
      "source": [
        "## Inverso multiplicativo del módulo\n",
        "Una forma de econtrar el inverso del módulo, es probando uno por uno hasta encontrarlo. Este método es poco eficiente y para números grandes no es practicable.\n",
        "\n",
        "Para garantizar que existe el inverso, se debe vericar que a y n sean co-primos osea que no deben tener divisores comunes, de lo contrario, no existe el inverso.\n",
        "\n",
        "Se sabe que dos números son co-primos si el mcd(a, n) = 1. Para esto nos valemos del algoritmo de Euclides."
      ]
    },
    {
      "cell_type": "code",
      "execution_count": null,
      "id": "3c096ae4-ad67-47d8-9be0-0364d43f570c",
      "metadata": {
        "id": "3c096ae4-ad67-47d8-9be0-0364d43f570c"
      },
      "outputs": [],
      "source": [
        "def mcd(a,b):\n",
        "    while a:\n",
        "        a,b = b%a,a\n",
        "    return b\n",
        "\n",
        "def inversoBestia(a, n):\n",
        "    '''encuentra un inverso del módulo si existe, solo para numeros chicos'''\n",
        "    if mcd(a,n)!=1:\n",
        "        return None\n",
        "    b = 1 #posible inverso\n",
        "    while True:\n",
        "        if (a*b) % n == 1:\n",
        "            return b  #inverso\n",
        "        b += 1"
      ]
    }
  ],
  "metadata": {
    "kernelspec": {
      "display_name": "Python 3 (ipykernel)",
      "language": "python",
      "name": "python3"
    },
    "language_info": {
      "codemirror_mode": {
        "name": "ipython",
        "version": 3
      },
      "file_extension": ".py",
      "mimetype": "text/x-python",
      "name": "python",
      "nbconvert_exporter": "python",
      "pygments_lexer": "ipython3",
      "version": "3.7.4"
    },
    "colab": {
      "provenance": []
    }
  },
  "nbformat": 4,
  "nbformat_minor": 5
}
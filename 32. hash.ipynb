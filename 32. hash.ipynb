{
  "cells": [
    {
      "cell_type": "markdown",
      "id": "39a31a49-6c08-4c5b-bd6e-24eecfac89ed",
      "metadata": {
        "id": "39a31a49-6c08-4c5b-bd6e-24eecfac89ed"
      },
      "source": [
        "# Hashing"
      ]
    },
    {
      "cell_type": "markdown",
      "id": "2d8d84c8-0db2-4452-8171-ea6dc7eeddb8",
      "metadata": {
        "id": "2d8d84c8-0db2-4452-8171-ea6dc7eeddb8"
      },
      "source": [
        "Es la piedra angular de la seguridad criptográfica. Abarca el concepto de **función de una sola via** o **huella digital**\n",
        "\n",
        "* Producen un valor repetíble y único\n",
        "* La salida no proporciona pistas sobre la entrada que la produce"
      ]
    },
    {
      "cell_type": "markdown",
      "id": "86d67d7e-bbb9-4dd3-a122-40710275cc23",
      "metadata": {
        "id": "86d67d7e-bbb9-4dd3-a122-40710275cc23"
      },
      "source": [
        "Haremos uso del algoritmo MD5 (obsoleto) en esta primera parte. Produce hash cortos y tiene una historia interesante"
      ]
    },
    {
      "cell_type": "markdown",
      "id": "73a1406f-8878-4ecf-88ea-7c5d23f18268",
      "metadata": {
        "tags": [],
        "id": "73a1406f-8878-4ecf-88ea-7c5d23f18268"
      },
      "source": [
        "El uso de funciones hash puede detectar la alteración de una mensaje o archivo garantizando la **integridad**"
      ]
    },
    {
      "cell_type": "code",
      "execution_count": null,
      "id": "98263ff1-a380-4a57-b629-e02d84ddabf8",
      "metadata": {
        "colab": {
          "base_uri": "https://localhost:8080/",
          "height": 35
        },
        "id": "98263ff1-a380-4a57-b629-e02d84ddabf8",
        "outputId": "8e010cdf-2867-4f73-e595-4bc6133a9ce4"
      },
      "outputs": [
        {
          "output_type": "execute_result",
          "data": {
            "text/plain": [
              "'d41d8cd98f00b204e9800998ecf8427e'"
            ],
            "application/vnd.google.colaboratory.intrinsic+json": {
              "type": "string"
            }
          },
          "metadata": {},
          "execution_count": 3
        }
      ],
      "source": [
        "import hashlib\n",
        "md5hasher = hashlib.md5()\n",
        "md5hasher.hexdigest()"
      ]
    },
    {
      "cell_type": "markdown",
      "id": "74ac9be9-2beb-4d68-b4df-ef2ca6921cda",
      "metadata": {
        "id": "74ac9be9-2beb-4d68-b4df-ef2ca6921cda"
      },
      "source": [
        "MD5 convierte una entrada de cualquier longitud en un número grande con un tamaño fijo de forma que:\n",
        "* El mismo documento siempre produce el mismo digest\n",
        "* El digest parece aleatorio\n",
        "\n",
        "El digest de MD5 crea un número que abarca 16 bits."
      ]
    },
    {
      "cell_type": "code",
      "execution_count": null,
      "id": "405f602a-cdae-4b79-9426-98a2fe300c03",
      "metadata": {
        "id": "405f602a-cdae-4b79-9426-98a2fe300c03",
        "outputId": "5c25c2e3-c70b-45bd-9467-9b782516881b"
      },
      "outputs": [
        {
          "data": {
            "text/plain": [
              "'6384e2b2184bcbf58eccf10ca7a6563c'"
            ]
          },
          "execution_count": 6,
          "metadata": {},
          "output_type": "execute_result"
        }
      ],
      "source": [
        "md5hasher = hashlib.md5(b'alice')\n",
        "md5hasher.hexdigest()"
      ]
    },
    {
      "cell_type": "code",
      "execution_count": null,
      "id": "0f966a4a-db7f-4263-8bcd-120d46577dcf",
      "metadata": {
        "tags": [],
        "id": "0f966a4a-db7f-4263-8bcd-120d46577dcf",
        "outputId": "a2115e02-1afe-4634-f0fe-2ffc1f847d4d"
      },
      "outputs": [
        {
          "data": {
            "text/plain": [
              "'9f9d51bc70ef21ca5c14f307980a29d8'"
            ]
          },
          "execution_count": 8,
          "metadata": {},
          "output_type": "execute_result"
        }
      ],
      "source": [
        "md5hasher = hashlib.md5(b'bob')\n",
        "md5hasher.hexdigest()"
      ]
    },
    {
      "cell_type": "markdown",
      "id": "23993ee9-9085-49eb-89b7-212c520feedf",
      "metadata": {
        "tags": [],
        "id": "23993ee9-9085-49eb-89b7-212c520feedf"
      },
      "source": [
        "## Ejercicio\n",
        "Calcule más digests MD5 para:\n",
        "- b'alice'\n",
        "- b'bob'\n",
        "- b'balice'\n",
        "- b'cob'\n",
        "- b'a'\n",
        "- b'aa'\n",
        "- b'aaaaaaaaaaaaa'"
      ]
    },
    {
      "cell_type": "code",
      "execution_count": null,
      "id": "71a9e31f-5909-4145-89eb-4eaf896f4be3",
      "metadata": {
        "colab": {
          "base_uri": "https://localhost:8080/"
        },
        "id": "71a9e31f-5909-4145-89eb-4eaf896f4be3",
        "outputId": "b1939d8e-1e9d-444f-98de-ffd74e15898e"
      },
      "outputs": [
        {
          "output_type": "stream",
          "name": "stdout",
          "text": [
            "6384e2b2184bcbf58eccf10ca7a6563c\n",
            "6384e2b2184bcbf58eccf10ca7a6563c\n",
            "06d89259f8e67b402677a1e494edf5f9\n",
            "0cc175b9c0f1b6a831c399e269772661\n",
            "b19a52a9c4c3b67209f5eb2782e552a0\n",
            "7707d6ae4e027c70eea2a935c2296f21\n"
          ]
        }
      ],
      "source": [
        "#Haga sus cálculos aqui\n",
        "md5hasher = hashlib.md5(b'alice')\n",
        "print(md5hasher.hexdigest())\n",
        "md5hasher = hashlib.md5(b'alice')\n",
        "print(md5hasher.hexdigest())\n",
        "md5hasher = hashlib.md5(b'alize')\n",
        "print(md5hasher.hexdigest())\n",
        "md5hasher = hashlib.md5(b'a')\n",
        "print(md5hasher.hexdigest())\n",
        "md5hasher = hashlib.md5(b'aaaaaaaaaaaaaaaaaaaaaaaaaaaaaaaaaaaaaaaaaaaaaaaaaaaaaaaaaaaaaaaaaaaaaaaaaaaaaaaaaaaaaaaaaaaaaaaaaaaaaaaaaaaaaaaaaaaaaaaaaaaaaaaaaaaaaaaaaaaaaaaaaaaaaaaaaaaaaaaaaaaaaaaaaaaaaaaaaaaaaaaaaaaaaaaaaaaaaaaaaaaaaaaaaaaaaaaaaaaaaaaaaaaaaaaaaaaaaaaaaaaaaaaaaaaaaaaaaaaaaaaaaaaaaaaaaaaaaaaaaaaaaaaaaaaaaaaaaaaaaaaaaaaaaaaaaaaaaaaaaaaaaaaaaaaaaaaaaaaaaaaaaaaaaaaaaaaaaaaaaaaaaaaaaaaaaaaaaaaaaaaaaaaaaaaaaaaaaaaaaaaaaaaaaaaaaaaaaaaaaaaaaaaaaaaaaaaaaaaaaaaaaaaaaaaaaaaaaaaaaaaaaaaaaaaaaaaaaaaaaaaaaaaaaaaaaaaaaaaaaaaaaaaaaaaaaaaaaaaaaaaaaaaaaaaaaaaaaaaaaaaaaaaaaaaaaaaaaaaaaaaaaaaaaaaaaaaaaaaaaaaaaaaaaaaaaaaaaaaaaaaaaaaaaaaaaaaaaaaaaaaaaaaaaaaaaaaaaaaaaaaaaaaaaaaaaaaaaaaaaaaaaaaaaaaaaaaaaaaaaaaaaaaaaaaaaaaaaaaaaaaaaaaaaaaaaaaaaaaaaaaaaaaaaaaaaaaaaaaaaaaaaaaaaaaaaaaaaaaaaaaaaaaaaaaaaaaaaaaaaaaaaaaaaaaaaaaaaaaaaaaaaaaaaaaaaaaaaaaaaaaaaaaaaaaaaaaaaaaaaaaaaaaaaaaaaaaaaaaaaaaaaaaaaaaaaaaaaaaaaaaaaaaaaaaaaaaaaaaaaaaaaaaaaaaaaaaaaaaaaaaaaaaaaaaaaaaaaaaaaaaaaaaaaaaaaaaaaaaaaaaaaaaaaaaaaaaaaaaaaaaaaaaaaaaaaaaaaaaaaaaaaaaaaaaaaaaaaaaaaaaaaaaaaaaaaaaaaaaaaaaaaaaaaaaaaaaaaaaaaaaaaaaaaaaaaaaaaaaaaaaaaaaaaaaaaaaaaaaaaaaaaaaaaaaaaaaaaaaaaaaaaaaaaaaaaaaaaaaaaaaaaaaaaaaaaaaaaaaaaaaaaaaaaaaaaaaaaaaaaaaaaaaaaaaaaaaaaaaaaaaaaaaaaaaaaaaaaaaaaaaaaaaaaaaaaaaaaaaaaaaaaaaaaaaaaaaaaaaaaaaaaaaaaaaaaaaaaaaaaaaaaaaaaaaaaaaaaaaaaaaaaaaaaaaaaaaaaaaaaaaaaaaaaaaaaaaaaaaaaaaaaaaaaaaaaaaaaaaaaaaaaaaaaaaaaaaaaaaaaaaaaaaaaaaaaaaaaaaaaaaaaaaaaaaaaaaaaaaaaaaaaaaaaaaaaaaaaaaaaaaaaaa')\n",
        "print(md5hasher.hexdigest())\n",
        "md5hasher = hashlib.md5(b'a'*1000000)\n",
        "print(md5hasher.hexdigest())"
      ]
    },
    {
      "cell_type": "markdown",
      "id": "68317e5e-2a40-4518-9049-44a89f9dd653",
      "metadata": {
        "id": "68317e5e-2a40-4518-9049-44a89f9dd653"
      },
      "source": [
        "Las entradas del digest no requieren la entrada entera. Podemos insertarlos un trozo (chunk) a la vez"
      ]
    },
    {
      "cell_type": "code",
      "execution_count": null,
      "id": "01152464-28d7-4d80-8309-2d63779ea5e4",
      "metadata": {
        "id": "01152464-28d7-4d80-8309-2d63779ea5e4",
        "outputId": "83f563d9-3c75-46f4-ab9e-a138210969c5"
      },
      "outputs": [
        {
          "data": {
            "text/plain": [
              "'6384e2b2184bcbf58eccf10ca7a6563c'"
            ]
          },
          "execution_count": 12,
          "metadata": {},
          "output_type": "execute_result"
        }
      ],
      "source": [
        "md5hasher = hashlib.md5()\n",
        "md5hasher.update(b'a')\n",
        "md5hasher.update(b'l')\n",
        "md5hasher.update(b'i')\n",
        "md5hasher.update(b'c')\n",
        "md5hasher.update(b'e')\n",
        "\n",
        "md5hasher.hexdigest()"
      ]
    },
    {
      "cell_type": "markdown",
      "id": "c5c086f7-e091-4b3f-915b-7459acdacdac",
      "metadata": {
        "id": "c5c086f7-e091-4b3f-915b-7459acdacdac"
      },
      "source": [
        "## Ejercicio\n",
        "Hagamos una búsqueda rápida usando los siguientes hashes (escríbelos literalemnte en Google)\n",
        "\n",
        "5f4dcc3b5aa765d61d8327deb882cf99\n",
        "\n",
        "d41d8cd98f00b204e9800998ecf8427e\n",
        "\n",
        "6384e2b2184bcbf58eccf10ca7a6563c"
      ]
    },
    {
      "cell_type": "markdown",
      "id": "8f6270e1-8490-4494-9ccf-3385893ae069",
      "metadata": {
        "id": "8f6270e1-8490-4494-9ccf-3385893ae069"
      },
      "source": [
        "Escribe tus conclusiones:"
      ]
    },
    {
      "cell_type": "markdown",
      "id": "1294530c-aac2-431c-b56b-b9ce3659b087",
      "metadata": {
        "id": "1294530c-aac2-431c-b56b-b9ce3659b087"
      },
      "source": []
    },
    {
      "cell_type": "code",
      "execution_count": null,
      "id": "be07af5e-f934-4fb6-a0b8-cce427b224ae",
      "metadata": {
        "id": "be07af5e-f934-4fb6-a0b8-cce427b224ae"
      },
      "outputs": [],
      "source": []
    },
    {
      "cell_type": "code",
      "execution_count": null,
      "id": "af1e64cf-6383-4fec-a796-de209f3b1174",
      "metadata": {
        "id": "af1e64cf-6383-4fec-a796-de209f3b1174"
      },
      "outputs": [],
      "source": []
    },
    {
      "cell_type": "markdown",
      "id": "c78dc10f-e79e-4852-b180-e848d481b602",
      "metadata": {
        "id": "c78dc10f-e79e-4852-b180-e848d481b602"
      },
      "source": [
        "Las funciones hash necesitan cumplir 3 requisitos\n",
        "* Resistencia a preimagen\n",
        "* Resistencia a segunda preimagen\n",
        "* Resistencia a colisiones\n",
        "\n",
        "## Resistencia a preimagen\n",
        "Una preimagen es el conjunto de entradas de una función hash que producen una salida específica.\n",
        "\n",
        "La preimagen de\n",
        "\n",
        "MD5(x) = 6384e2b2184bcbf58eccf10ca7a6563c\n",
        "\n",
        "contiene el elemento x == b'alice'.\n",
        "\n",
        "*Una preimagen de una función H y un valor k es el conjunto de valores de x para los cuales H(x)=k*\n",
        "\n",
        "la **resistencia a preimagen** es que no se puede encontrar un elemento en la preimagen para esto sin hacer una cantidad ridículamente grande de trabajo.\n",
        "\n"
      ]
    },
    {
      "cell_type": "markdown",
      "id": "24f6f008-0a93-45a9-a5d6-a357042055dc",
      "metadata": {
        "tags": [],
        "id": "24f6f008-0a93-45a9-a5d6-a357042055dc"
      },
      "source": [
        "## Resistencia a segunda preimagen \n",
        "\n",
        "Si ya se tieene un documento  que produce un digest en particular, aún resulta duro encontrar uno diferente que produzca el mismo digest.\n",
        "\n",
        "## Resistencia a colisiones\n",
        "\n",
        "Es duro encontrar dos entradas que produzcan el mismo resultado de salida.\n",
        "\n",
        "A la propiedad que hace que una pequeña variación en la entrada produzca una salida muy diferente se le conoce como **Avalancha**"
      ]
    },
    {
      "cell_type": "code",
      "execution_count": null,
      "id": "f1a17ca3-f3d0-4e0b-afcf-b27ad5473ddd",
      "metadata": {
        "id": "f1a17ca3-f3d0-4e0b-afcf-b27ad5473ddd",
        "outputId": "1ac7c28a-4a99-48a5-a7ad-60f724ca17c5"
      },
      "outputs": [
        {
          "data": {
            "text/plain": [
              "'9f9d51bc70ef21ca5c14f307980a29d8'"
            ]
          },
          "execution_count": 2,
          "metadata": {},
          "output_type": "execute_result"
        }
      ],
      "source": [
        "import hashlib\n",
        "\n",
        "hexstring = hashlib.md5(b'bob').hexdigest()\n",
        "hexstring"
      ]
    },
    {
      "cell_type": "code",
      "execution_count": null,
      "id": "7d9d010c-6b5d-4f31-abf3-e4ec1b00710c",
      "metadata": {
        "id": "7d9d010c-6b5d-4f31-abf3-e4ec1b00710c",
        "outputId": "16dcf241-0a6c-426d-feea-ba0ba568eadd"
      },
      "outputs": [
        {
          "name": "stdout",
          "output_type": "stream",
          "text": [
            "1001111110011101010100011011110001110000111011110010000111001010\n",
            "0101110000010100111100110000011110011000000010100010100111011000\n"
          ]
        }
      ],
      "source": [
        "binstring = bin(int(hexstring, 16))\n",
        "print(\"{}\\n{}\".format(binstring[2:66], binstring[66:]))"
      ]
    },
    {
      "cell_type": "markdown",
      "id": "24abb570-9779-49a2-bd90-da360fad95d7",
      "metadata": {
        "id": "24abb570-9779-49a2-bd90-da360fad95d7"
      },
      "source": [
        "## Ejercicio\n",
        "Compare los valores de bits de varias entradas y verifique la avalancha"
      ]
    }
  ],
  "metadata": {
    "kernelspec": {
      "display_name": "Python 3 (ipykernel)",
      "language": "python",
      "name": "python3"
    },
    "language_info": {
      "codemirror_mode": {
        "name": "ipython",
        "version": 3
      },
      "file_extension": ".py",
      "mimetype": "text/x-python",
      "name": "python",
      "nbconvert_exporter": "python",
      "pygments_lexer": "ipython3",
      "version": "3.7.4"
    },
    "colab": {
      "provenance": [],
      "collapsed_sections": []
    }
  },
  "nbformat": 4,
  "nbformat_minor": 5
}
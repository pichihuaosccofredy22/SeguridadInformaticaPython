{
  "nbformat": 4,
  "nbformat_minor": 0,
  "metadata": {
    "colab": {
      "name": "Generador_congruencial.ipynb",
      "provenance": [],
      "collapsed_sections": []
    },
    "kernelspec": {
      "name": "python3",
      "display_name": "Python 3"
    },
    "language_info": {
      "name": "python"
    }
  },
  "cells": [
    {
      "cell_type": "markdown",
      "source": [
        "**Generador de numeros seudoaleatorios**"
      ],
      "metadata": {
        "id": "ChI9Fry8RQeX"
      }
    },
    {
      "cell_type": "markdown",
      "source": [
        "Escriba un metodo para generar números seudoaleatorios\n",
        "por ejemplo:\n",
        "\n",
        "\n",
        "```\n",
        "# generadorcongruencial(7,5,13,9,6):\n",
        "11\n",
        "```\n",
        "\n"
      ],
      "metadata": {
        "id": "T5-O0ZaLRqvG"
      }
    },
    {
      "cell_type": "code",
      "execution_count": 58,
      "metadata": {
        "id": "quu_J2FORGma",
        "colab": {
          "base_uri": "https://localhost:8080/"
        },
        "outputId": "3a781d5f-b449-4099-e7cc-56a718a1e367"
      },
      "outputs": [
        {
          "output_type": "stream",
          "name": "stdout",
          "text": [
            "9\n",
            "3\n",
            "0\n",
            "5\n",
            "1\n",
            "12\n"
          ]
        }
      ],
      "source": [
        "\n",
        "def generadorcongruencial(a, b, n, x0, i):\n",
        "  num=x0\n",
        "  for i in range(i):\n",
        "    yield num\n",
        "    num = (a*x0 + b ) % n\n",
        "    x0 = num\n",
        "    \n",
        "iterador = iter(generadorcongruencial(7,5,13,9,10000000000000000000000000000000))\n",
        "\n",
        "print(next(iterador))\n",
        "print(next(iterador))\n",
        "print(next(iterador))\n",
        "print(next(iterador))\n",
        "print(next(iterador))\n",
        "print(next(iterador))"
      ]
    },
    {
      "cell_type": "code",
      "source": [
        "generadorcongruencial(7,5,13,9,1000000)[800]"
      ],
      "metadata": {
        "colab": {
          "base_uri": "https://localhost:8080/"
        },
        "id": "eUZH6f3RUCb1",
        "outputId": "ae8c2937-3176-40ba-9cb7-06a03e9a25d1"
      },
      "execution_count": 27,
      "outputs": [
        {
          "output_type": "execute_result",
          "data": {
            "text/plain": [
              "2"
            ]
          },
          "metadata": {},
          "execution_count": 27
        }
      ]
    },
    {
      "cell_type": "code",
      "source": [
        "iterador = iter(range(3,10))\n",
        "next(iterador)"
      ],
      "metadata": {
        "colab": {
          "base_uri": "https://localhost:8080/"
        },
        "id": "MwANrm7XefJY",
        "outputId": "e8c75348-4b17-45f8-ae85-fbd3f81cfbaf"
      },
      "execution_count": 37,
      "outputs": [
        {
          "output_type": "execute_result",
          "data": {
            "text/plain": [
              "3"
            ]
          },
          "metadata": {},
          "execution_count": 37
        }
      ]
    },
    {
      "cell_type": "code",
      "source": [
        "next(iterador)"
      ],
      "metadata": {
        "colab": {
          "base_uri": "https://localhost:8080/"
        },
        "id": "qHPDsI1QfYaf",
        "outputId": "0904c1ac-2309-4f7d-e70c-3349e5ea9ce8"
      },
      "execution_count": 38,
      "outputs": [
        {
          "output_type": "execute_result",
          "data": {
            "text/plain": [
              "4"
            ]
          },
          "metadata": {},
          "execution_count": 38
        }
      ]
    },
    {
      "cell_type": "code",
      "source": [
        "next(iterador)"
      ],
      "metadata": {
        "colab": {
          "base_uri": "https://localhost:8080/"
        },
        "id": "K6rMKcXMfaa-",
        "outputId": "d4112142-8b2a-41ad-cad6-9f90c9184b48"
      },
      "execution_count": 39,
      "outputs": [
        {
          "output_type": "execute_result",
          "data": {
            "text/plain": [
              "5"
            ]
          },
          "metadata": {},
          "execution_count": 39
        }
      ]
    },
    {
      "cell_type": "code",
      "source": [
        "def potencias2():\n",
        "  n = 0\n",
        "  while True:\n",
        "    yield 2**n\n",
        "    n +=1\n",
        "\n",
        "iterador = iter(potencias2())\n",
        "\n",
        "n = 0\n",
        "while n<100:\n",
        "  next(iterador)\n",
        "  n += 1\n",
        "print(next(iterador))\n"
      ],
      "metadata": {
        "colab": {
          "base_uri": "https://localhost:8080/"
        },
        "id": "B8pLnLW_fhmu",
        "outputId": "be7ba2f8-fd10-4612-dff2-c7b2cc27a11c"
      },
      "execution_count": 49,
      "outputs": [
        {
          "output_type": "stream",
          "name": "stdout",
          "text": [
            "1267650600228229401496703205376\n"
          ]
        }
      ]
    }
  ]
}
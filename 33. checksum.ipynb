{
  "cells": [
    {
      "cell_type": "markdown",
      "id": "124ffc0c-948d-4565-91b2-1f00477c4fd9",
      "metadata": {
        "id": "124ffc0c-948d-4565-91b2-1f00477c4fd9"
      },
      "source": [
        "# Hash como CRC\n",
        "El siguiente script imprime el hash correspondiente para cada uno de los archivos contenidos en la carpeta en donde se encuentra ubicado, aplicando los distintos algoritmos que presenta hashlib."
      ]
    },
    {
      "cell_type": "code",
      "execution_count": null,
      "id": "2d7a7caf-d2df-47df-a130-97188b16e6fc",
      "metadata": {
        "id": "2d7a7caf-d2df-47df-a130-97188b16e6fc",
        "outputId": "e48dbc57-43af-43c6-d105-5f68dba3accb"
      },
      "outputs": [
        {
          "name": "stdout",
          "output_type": "stream",
          "text": [
            "shake_256\n",
            "7e44526e882abf373cbbb3253d6b94b0289246e783c132b0cd2184263a83bfe3a2fc1c7a18198304291870d6adf5ae807a881d6c36f236a1d25a8c5f43f529dc401eadf07a926088201f6e95d6c754efafbb288d5507353689f87b962f448107971b4b1793fb7fd13ac700497cd19dda535771664778f26b4d2a82bdf945c195\n",
            "sha384\n",
            "0ecc9ed6231e1a705565b62c8ebf9fcce676aedda5c937721e9246e1928d79b5eda79c6efdfb0e3ddf518e8d3cc9005e\n",
            "sha3_384\n",
            "87048a57e91704856786dc7a8affdba48b8b7f9a588105f3c2b2851bbf0e561526ea3155e8c0b230b94d7b26cdf7ee67\n",
            "sha512\n",
            "7f8a53b63443f044f04fec788c987fb7f846b106c4e6a0891b06f6fe8d90f4eb0d55a2942f9588d91a40b38282586e0c76ef3e28dae44470c4a992e3df0bde54\n",
            "sha256\n",
            "fee1dbcfc0f1ac2db05e9bf2602c0765f6b6605f9db1ded035ccd3236206f417\n",
            "sha3_512\n",
            "95ab1d954bfbe34bf03016028811bf5624acf2d8f8bdcddd9a96bac2ae7a10bcd79f62bf1d9f6da9cd5a1696a79fc2345a031fc6efd4eaefb07c564b92b4f7ad\n",
            "sha3_256\n",
            "be9bf487330b1eddea968202adcacbf73af03b8ab7c3e5a6bdd99fdcc1f125d6\n",
            "sha1\n",
            "25a2d7ca3a90b404ffb8bc0e67d99358d43d7b40\n",
            "sha224\n",
            "cfe43b9ed628eef882e72b9e14a838ccc566b10beb0a5f8c275f3c6e\n",
            "blake2s\n",
            "fa57ad00edd22f276fe6c9059addbf1b914a935bf1451a182a52f6b121702aa8\n",
            "md5\n",
            "2ba65b95d174a48ac2c0878a574863ea\n",
            "sha3_224\n",
            "83859d0ecd4e476878abb350a9bcc5166ad2aac80cc3c475d63ff9be\n",
            "shake_128\n",
            "6347ff3bf26db2eba91f4e1dd863cbdc4e59a4f20b048edb6574b537172eeda4499e206a44a451116661cef36d9cb942742b18e18d5dd1926ead64232f733a90eab58deca74072157a11f10127f799f2628e786c61ed74ba06ac87fed7856c18b846b9de5ce3cd1e9c6ed72161ae380923a201edc936fd9b2a3b984ae21ee75d\n",
            "blake2b\n",
            "752ff0758c586e5785e03336c39db97284b5ac9790f08c6d00df71e65e7f9736b531d701244799c4d89ba990d39fe332eb1711b9415bba5555c2209c995c44fc\n"
          ]
        }
      ],
      "source": [
        "import hashlib\n",
        "for algorithm in hashlib.algorithms_guaranteed:\n",
        "    print(algorithm)\n",
        "    h = hashlib.new(algorithm)\n",
        "    h.update(b\"www.recursospython.com - Recursos Python\")\n",
        "    try:\n",
        "        print(h.hexdigest())\n",
        "    except TypeError:\n",
        "        # Algoritmo SHAKE requiere la longitud como argumento.\n",
        "        print(h.hexdigest(128))"
      ]
    },
    {
      "cell_type": "markdown",
      "id": "d026cb8d-fb79-4645-8b1e-11f369ee32a0",
      "metadata": {
        "id": "d026cb8d-fb79-4645-8b1e-11f369ee32a0"
      },
      "source": [
        "El objeto hash tiene algunas propiedades que nos pueden dar información sobre el algoritmo y el tamaño de bloque"
      ]
    },
    {
      "cell_type": "code",
      "execution_count": null,
      "id": "49d1c10b-d3cd-4cd2-92d8-284816b28e34",
      "metadata": {
        "id": "49d1c10b-d3cd-4cd2-92d8-284816b28e34",
        "outputId": "fe036ac9-5907-4b21-8a3e-27153a16087f"
      },
      "outputs": [
        {
          "data": {
            "text/plain": [
              "64"
            ]
          },
          "execution_count": 12,
          "metadata": {},
          "output_type": "execute_result"
        }
      ],
      "source": [
        "h.digest_size"
      ]
    },
    {
      "cell_type": "markdown",
      "id": "13e0c993-b132-41d3-b3dc-b69c8eac7714",
      "metadata": {
        "id": "13e0c993-b132-41d3-b3dc-b69c8eac7714"
      },
      "source": [
        "Para aplicar hash a un archivo binario es necesario abrirlo con el atributo \"rb\""
      ]
    },
    {
      "cell_type": "code",
      "execution_count": null,
      "id": "30ac4ff8-d98c-49a5-a06b-1b66b93a0749",
      "metadata": {
        "id": "30ac4ff8-d98c-49a5-a06b-1b66b93a0749",
        "outputId": "52d5ae24-b1f4-43a8-dc4f-887614382dcb"
      },
      "outputs": [
        {
          "data": {
            "text/plain": [
              "b'{\\n \"cells\": [\\n  {\\n   \"cell_type\": \"markdown\",\\n   \"id\": \"39a31a49-6c08-4c5b-bd6e-24eecfac89ed\",\\n   \"metadata\": {},\\n   \"source\": [\\n    \"# Hashing\"\\n   ]\\n  },\\n  {\\n   \"cell_type\": \"markdown\",\\n   \"id\": \"2d8d84c8-0db2-4452-8171-ea6dc7eeddb8\",\\n   \"metadata\": {},\\n   \"source\": [\\n    \"Es la piedra angular de la seguridad criptogr\\xc3\\xa1fica. Abarca el concepto de **funci\\xc3\\xb3n de una sola via** o **huella digital**\\\\n\",\\n    \"\\\\n\",\\n    \"* Producen un valor repet\\xc3\\xadble y \\xc3\\xbanico\\\\n\",\\n    \"* La salida no proporciona pistas sobre la entrada que la produce\"\\n   ]\\n  },\\n  {\\n   \"cell_type\": \"markdown\",\\n   \"id\": \"86d67d7e-bbb9-4dd3-a122-40710275cc23\",\\n   \"metadata\": {},\\n   \"source\": [\\n    \"Haremos uso del algoritmo MD5 (obsoleto) en esta primera parte. Produce hash cortos y tiene una historia interesante\"\\n   ]\\n  },\\n  {\\n   \"cell_type\": \"markdown\",\\n   \"id\": \"73a1406f-8878-4ecf-88ea-7c5d23f18268\",\\n   \"metadata\": {\\n    \"tags\": []\\n   },\\n   \"source\": [\\n    \"El uso de funciones hash puede detectar la alteraci\\xc3\\xb3n de una mensaje o archivo garantizando la **integridad**\"\\n   ]\\n  },\\n  {\\n   \"cell_type\": \"code\",\\n   \"execution_count\": 4,\\n   \"id\": \"98263ff1-a380-4a57-b629-e02d84ddabf8\",\\n   \"metadata\": {},\\n   \"outputs\": [\\n    {\\n     \"data\": {\\n      \"text/plain\": [\\n       \"\\'d41d8cd98f00b204e9800998ecf8427e\\'\"\\n      ]\\n     },\\n     \"execution_count\": 4,\\n     \"metadata\": {},\\n     \"output_type\": \"execute_result\"\\n    }\\n   ],\\n   \"source\": [\\n    \"import hashlib\\\\n\",\\n    \"md5hasher = hashlib.md5()\\\\n\",\\n    \"md5hasher.hexdigest()\"\\n   ]\\n  },\\n  {\\n   \"cell_type\": \"markdown\",\\n   \"id\": \"74ac9be9-2beb-4d68-b4df-ef2ca6921cda\",\\n   \"metadata\": {},\\n   \"source\": [\\n    \"MD5 convierte una entrada de cualquier longitud en un n\\xc3\\xbamero grande con un tama\\xc3\\xb1o fijo de forma que:\\\\n\",\\n    \"* El mismo documento siempre produce el mismo digest\\\\n\",\\n    \"* El digest parece aleatorio\\\\n\",\\n    \"\\\\n\",\\n    \"El digest de MD5 crea un n\\xc3\\xbamero que abarca 16 bits.\"\\n   ]\\n  },\\n  {\\n   \"cell_type\": \"code\",\\n   \"execution_count\": 6,\\n   \"id\": \"405f602a-cdae-4b79-9426-98a2fe300c03\",\\n   \"metadata\": {},\\n   \"outputs\": [\\n    {\\n     \"data\": {\\n      \"text/plain\": [\\n       \"\\'6384e2b2184bcbf58eccf10ca7a6563c\\'\"\\n      ]\\n     },\\n     \"execution_count\": 6,\\n     \"metadata\": {},\\n     \"output_type\": \"execute_result\"\\n    }\\n   ],\\n   \"source\": [\\n    \"md5hasher = hashlib.md5(b\\'alice\\')\\\\n\",\\n    \"md5hasher.hexdigest()\"\\n   ]\\n  },\\n  {\\n   \"cell_type\": \"code\",\\n   \"execution_count\": 8,\\n   \"id\": \"0f966a4a-db7f-4263-8bcd-120d46577dcf\",\\n   \"metadata\": {\\n    \"tags\": []\\n   },\\n   \"outputs\": [\\n    {\\n     \"data\": {\\n      \"text/plain\": [\\n       \"\\'9f9d51bc70ef21ca5c14f307980a29d8\\'\"\\n      ]\\n     },\\n     \"execution_count\": 8,\\n     \"metadata\": {},\\n     \"output_type\": \"execute_result\"\\n    }\\n   ],\\n   \"source\": [\\n    \"md5hasher = hashlib.md5(b\\'bob\\')\\\\n\",\\n    \"md5hasher.hexdigest()\"\\n   ]\\n  },\\n  {\\n   \"cell_type\": \"markdown\",\\n   \"id\": \"23993ee9-9085-49eb-89b7-212c520feedf\",\\n   \"metadata\": {\\n    \"tags\": []\\n   },\\n   \"source\": [\\n    \"## Ejercicio\\\\n\",\\n    \"Calcule m\\xc3\\xa1s digests MD5 para:\\\\n\",\\n    \"- b\\'alice\\'\\\\n\",\\n    \"- b\\'bob\\'\\\\n\",\\n    \"- b\\'balice\\'\\\\n\",\\n    \"- b\\'cob\\'\\\\n\",\\n    \"- b\\'a\\'\\\\n\",\\n    \"- b\\'aa\\'\\\\n\",\\n    \"- b\\'aaaaaaaaaaaaa\\'\"\\n   ]\\n  },\\n  {\\n   \"cell_type\": \"code\",\\n   \"execution_count\": 9,\\n   \"id\": \"71a9e31f-5909-4145-89eb-4eaf896f4be3\",\\n   \"metadata\": {},\\n   \"outputs\": [],\\n   \"source\": [\\n    \"#Haga sus c\\xc3\\xa1lculos aqui\"\\n   ]\\n  },\\n  {\\n   \"cell_type\": \"markdown\",\\n   \"id\": \"68317e5e-2a40-4518-9049-44a89f9dd653\",\\n   \"metadata\": {},\\n   \"source\": [\\n    \"Las entradas del digest no requieren la entrada entera. Podemos insertarlos un trozo (chunk) a la vez\"\\n   ]\\n  },\\n  {\\n   \"cell_type\": \"code\",\\n   \"execution_count\": 12,\\n   \"id\": \"01152464-28d7-4d80-8309-2d63779ea5e4\",\\n   \"metadata\": {},\\n   \"outputs\": [\\n    {\\n     \"data\": {\\n      \"text/plain\": [\\n       \"\\'6384e2b2184bcbf58eccf10ca7a6563c\\'\"\\n      ]\\n     },\\n     \"execution_count\": 12,\\n     \"metadata\": {},\\n     \"output_type\": \"execute_result\"\\n    }\\n   ],\\n   \"source\": [\\n    \"md5hasher = hashlib.md5()\\\\n\",\\n    \"md5hasher.update(b\\'a\\')\\\\n\",\\n    \"md5hasher.update(b\\'l\\')\\\\n\",\\n    \"md5hasher.update(b\\'i\\')\\\\n\",\\n    \"md5hasher.update(b\\'c\\')\\\\n\",\\n    \"md5hasher.update(b\\'e\\')\\\\n\",\\n    \"\\\\n\",\\n    \"md5hasher.hexdigest()\"\\n   ]\\n  },\\n  {\\n   \"cell_type\": \"markdown\",\\n   \"id\": \"c5c086f7-e091-4b3f-915b-7459acdacdac\",\\n   \"metadata\": {},\\n   \"source\": [\\n    \"## Ejercicio\\\\n\",\\n    \"Hagamos una b\\xc3\\xbasqueda r\\xc3\\xa1pida usando los siguientes hashes (escr\\xc3\\xadbelos literalemnte en Google)\"\\n   ]\\n  },\\n  {\\n   \"cell_type\": \"markdown\",\\n   \"id\": \"8f6270e1-8490-4494-9ccf-3385893ae069\",\\n   \"metadata\": {},\\n   \"source\": [\\n    \"Escribe tus conclusiones:\"\\n   ]\\n  },\\n  {\\n   \"cell_type\": \"markdown\",\\n   \"id\": \"1294530c-aac2-431c-b56b-b9ce3659b087\",\\n   \"metadata\": {},\\n   \"source\": []\\n  },\\n  {\\n   \"cell_type\": \"code\",\\n   \"execution_count\": null,\\n   \"id\": \"be07af5e-f934-4fb6-a0b8-cce427b224ae\",\\n   \"metadata\": {},\\n   \"outputs\": [],\\n   \"source\": []\\n  },\\n  {\\n   \"cell_type\": \"code\",\\n   \"execution_count\": null,\\n   \"id\": \"af1e64cf-6383-4fec-a796-de209f3b1174\",\\n   \"metadata\": {},\\n   \"outputs\": [],\\n   \"source\": []\\n  },\\n{\\n   \"cell_type\": \"markdown\",\\n   \"id\": \"c78dc10f-e79e-4852-b180-e848d481b602\",\\n   \"metadata\": {},\\n   \"source\": [\\n    \"Las funciones hash necesitan cumplir 3 requisitos\\\\n\",\\n    \"* Resistencia a preimagen\\\\n\",\\n    \"* Resistencia a segunda preimagen\\\\n\",\\n    \"* Resistencia a colisiones\\\\n\",\\n    \"\\\\n\",\\n    \"## Resistencia a preimagen\\\\n\",\\n    \"Una preimagen es el conjunto de entradas de una funci\\xc3\\xb3n hash que producen una salida espec\\xc3\\xadfica.\\\\n\",\\n    \"\\\\n\",\\n    \"La preimagen de\\\\n\",\\n    \"\\\\n\",\\n    \"MD5(x) = 6384e2b2184bcbf58eccf10ca7a6563c\\\\n\",\\n    \"\\\\n\",\\n    \"contiene el elemento x == b\\'alice\\'.\\\\n\",\\n    \"\\\\n\",\\n    \"*Una preimagen de una funci\\xc3\\xb3n H y un valor k es el conjunto de valores de x para los cuales H(x)=k*\\\\n\",\\n    \"\\\\n\",\\n    \"la **resistencia a preimagen** es que no se puede encontrar un elemento en la preimagen para esto sin hacer una cantidad rid\\xc3\\xadculamente grande de trabajo.\\\\n\",\\n    \"\\\\n\"\\n   ]\\n  },\\n  {\\n   \"cell_type\": \"markdown\",\\n   \"id\": \"24f6f008-0a93-45a9-a5d6-a357042055dc\",\\n   \"metadata\": {\\n    \"tags\": []\\n   },\\n   \"source\": [\\n    \"## Resistencia a segunda preimagen \\\\n\",\\n    \"\\\\n\",\\n    \"Si ya se tieene un documento  que produce un digest en particular, a\\xc3\\xban resulta duro encontrar uno diferente que produzca el mismo digest.\\\\n\",\\n    \"\\\\n\",\\n    \"## Resistencia a colisiones\\\\n\",\\n    \"\\\\n\",\\n    \"Es duro encontrar dos entradas que produzcan el mismo resultado de salida.\\\\n\",\\n    \"\\\\n\",\\n    \"A la propiedad que hace que una peque\\xc3\\xb1a variaci\\xc3\\xb3n en la entrada produzca una salida muy diferente se le conoce como **Avalancha**\"\\n   ]\\n  },\\n  {\\n   \"cell_type\": \"code\",\\n   \"execution_count\": 2,\\n   \"id\": \"f1a17ca3-f3d0-4e0b-afcf-b27ad5473ddd\",\\n   \"metadata\": {},\\n   \"outputs\": [\\n    {\\n     \"data\": {\\n      \"text/plain\": [\\n       \"\\'9f9d51bc70ef21ca5c14f307980a29d8\\'\"\\n      ]\\n     },\\n     \"execution_count\": 2,\\n     \"metadata\": {},\\n     \"output_type\": \"execute_result\"\\n    }\\n   ],\\n   \"source\": [\\n    \"import hashlib\\\\n\",\\n    \"\\\\n\",\\n    \"hexstring = hashlib.md5(b\\'bob\\').hexdigest()\\\\n\",\\n    \"hexstring\"\\n   ]\\n  },\\n  {\\n   \"cell_type\": \"code\",\\n   \"execution_count\": 3,\\n   \"id\": \"7d9d010c-6b5d-4f31-abf3-e4ec1b00710c\",\\n   \"metadata\": {},\\n   \"outputs\": [\\n    {\\n     \"name\": \"stdout\",\\n     \"output_type\": \"stream\",\\n     \"text\": [\\n      \"1001111110011101010100011011110001110000111011110010000111001010\\\\n\",\\n      \"0101110000010100111100110000011110011000000010100010100111011000\\\\n\"\\n     ]\\n    }\\n   ],\\n   \"source\": [\\n    \"binstring = bin(int(hexstring, 16))\\\\n\",\\n    \"print(\\\\\"{}\\\\\\\\n{}\\\\\".format(binstring[2:66], binstring[66:]))\"\\n   ]\\n  },\\n  {\\n   \"cell_type\": \"markdown\",\\n   \"id\": \"24abb570-9779-49a2-bd90-da360fad95d7\",\\n   \"metadata\": {},\\n   \"source\": [\\n    \"## Ejercicio\\\\n\",\\n    \"Compare los valores de bits de varias entradas y verifique la avalancha\"\\n   ]\\n  }\\n ],\\n \"metadata\": {\\n  \"kernelspec\": {\\n   \"display_name\": \"Python 3 (ipykernel)\",\\n   \"language\": \"python\",\\n   \"name\": \"python3\"\\n  },\\n  \"language_info\": {\\n   \"codemirror_mode\": {\\n    \"name\": \"ipython\",\\n    \"version\": 3\\n   },\\n   \"file_extension\": \".py\",\\n   \"mimetype\": \"text/x-python\",\\n   \"name\": \"python\",\\n   \"nbconvert_exporter\": \"python\",\\n   \"pygments_lexer\": \"ipython3\",\\n   \"version\": \"3.7.4\"\\n  }\\n },\\n \"nbformat\": 4,\\n \"nbformat_minor\": 5\\n}\\n'"
            ]
          },
          "execution_count": 11,
          "metadata": {},
          "output_type": "execute_result"
        }
      ],
      "source": [
        "filebinario = open(\"hash.ipynb\", \"rb\")\n",
        "filebinario.read()"
      ]
    },
    {
      "cell_type": "markdown",
      "id": "e1626568-60b7-48d7-9665-fe3efe97152c",
      "metadata": {
        "id": "e1626568-60b7-48d7-9665-fe3efe97152c"
      },
      "source": [
        "El siguiente script imprime el hash correspondiente para cada uno de los archivos contenidos en la carpeta en donde se encuentra ubicado, aplicando los distintos algoritmos que presenta"
      ]
    },
    {
      "cell_type": "code",
      "execution_count": null,
      "id": "d05e27b4-f3c9-40a4-9228-c3eed8b88208",
      "metadata": {
        "id": "d05e27b4-f3c9-40a4-9228-c3eed8b88208",
        "outputId": "3cf20d0a-1828-46af-9fb8-99e18b0926bf"
      },
      "outputs": [
        {
          "name": "stdout",
          "output_type": "stream",
          "text": [
            "** hash.ipynb **\n",
            "shake_256: 5cfcbb4ad96c5db4f57f2a9fd75c898965de5046fc1018578d6638dcc6c22b2387ead55d0b2720550f89f8a469a7af746a0f8740ef6a681884b55e3e0b1a0545523eece9f09fa9fa5952e456c8f29244cc16bc8b4eb0ff8915a3f0a6fc8fc3d034367434bcc68559f1e47b6c062f508012c5ae7c812cf43b90d80eda9a38253e\n",
            "sha384: 913ece9aa2b3e97198bbb14d3bd3505192ba947dcca0783c84215f047d9fa0ccfb0a858a547216f0966b1208ea5ed8ad\n",
            "sha3_384: b6be9b93c4b2480af62cee254da77731c0a794c75ac09bc055ec6e558e853af49c26d31f3334ec1045f8bdd524622c83\n",
            "sha512: 03d77578af8f3916a817614e681ea4fc1edd33bf450bd67302f54f77967228f50e1187bb3a8a0b5256041f24c50bd6fef6314767e52b8e1b48b0fda4d6110b80\n",
            "sha256: f84b5f7131ccebc82ccdd1e09e4d346da7b9646ac6cfd8aa5120fc9f781f1c6d\n",
            "sha3_512: 40b3c6970cfa60889575a59109ed3289178142c4070fea7bb6824971ed8a3c3ad6fed108ba12a18e51227bd5018101c85f232bc6053ff56f35c5e9c52cf5390f\n",
            "sha3_256: 80a99c7cc91c17ed2a6b1cdc8697fb26d368bda04cddf39212b8b8ce400f7257\n",
            "sha1: 527c920cda1a9ca7d1fe536dd6f0400ce03fe475\n",
            "sha224: 5f91fb5835d12c75f783dd5272b9fa7f847df7c1bc0b050917126cb0\n",
            "blake2s: ba92236f9e5118b02e0255591a9c2351ffbfe5402adb3e6b4fd9a437ae4732e5\n",
            "md5: 725bf23f6f4c9ede8a56179c0e6a5fea\n",
            "sha3_224: 2d742504e3b5ea4d7ec8e56a43b8da5e4315f5bad03845ed56c7b15c\n",
            "shake_128: c31c3f2dadb372dd50ffe33572941f91f1ec3f8387d7a8376d4eb5082487c7901aadaeefa4cc2fbb91e147ee74a7b43d131b6f67a5c7f614f268e2bd4c2592513f872406ee5c612987238c23a427c90e55984a5689cdb2ca55a23a71196ac1dcef41531d4af6c10cc20f8e067eace7783d053646655beabc978df867c07d60ee\n",
            "blake2b: e87e147da4e04cd0cb047e43908fb58e763205dabf94caeaf5870d423e44ef4b17e27c15c49e777591a94509a9bc405449d54f370bf39be4883db351ad84add3\n",
            "\n",
            "** hashing.ipynb **\n",
            "shake_256: 2c08e056a2e841b3d34daa0a19caa2c9d3b6bdbf7243a269d9b52b5b12057f06a00ec8221adea521fcace5e18b340c3f334e451ac612024c0bcf94817e1f53bae35aa9e0fb7f0e10213b51e729d284a930187d4b51e3bf1fa92582fb9e426890810331f34bcb27baaf27dd61908cd46a6e57fb4009e9e3e6624387390a6f7da8\n",
            "sha384: b7e721a4c9b553da1e45292e36137367393769e6a6e4e1b74c0897827443a236c02154c8282bf5284e799d43d80c3072\n",
            "sha3_384: 68f94f20deee76ce2e1fff3454780d45a61bfa2f379c744dcc75752701ff47ae5b9cd2743908cb216a0717a447838da6\n",
            "sha512: 8d96b081b9acac2fa9c279d31b7e080a239ce0183b0d748059e088e353274289a8ff4577e9915ad23122d4f9a84953eafa67e0ac5020bd1a1254982254f33c95\n",
            "sha256: 99524f11d9d115923fc30871d6a678f18f03cf3de792f8ab4211579076c4be63\n",
            "sha3_512: 607bf8a04c10ae5e2247b5ef80a945b1eb674c450006ab29c6554f817fce84ac439f2595862e1ab3894dacc4e637216668caa4d76247aeb9319511f84572f3f6\n",
            "sha3_256: cee1b0827f4ef9dc6a9429b5b9ccb8e20a6816c01d02d612fbb2751d3dc722f9\n",
            "sha1: 9f8dafdbba3c20cc3a3ce33d26dc874e94f3e7a8\n",
            "sha224: 4dedd67cad147162d48dafe46352c76d8a574680bbaa3473979e3b52\n",
            "blake2s: 6897ecd4c5d53d0b252d978a606bdf16d82849f2db7ee732ad0d7c903171ce0b\n",
            "md5: 50032fa176d3b874e120440e6d6bc037\n",
            "sha3_224: d52dc640b06ce5e48c30943767161fa890cb3e361e7a90ea2182f3ea\n",
            "shake_128: 4bd4d8aa11f3fdbd0f28f20d42b4e6983140c37db420080f8844ddfeeed1cf41a4ed97bccbf82e82375ec0ccd120eb9f742dcae753b6120fcb7ccbbc4f63cecfda5fc3637b02b2a1f22bfe48e507d85582889f016d355ae04095256f9e9020c62b6c8575d713bd25d125009d7243e339a029c9b8a326bcdf71ae73c5500a9da6\n",
            "blake2b: 630417ae7f2da321c0ab1acaf55dc403d7d7bf329631d1536776ffff9b7a04166f30c23ad8c2ea55bfeb6cd71d96c1e22bef264e90507b9332927fa3b8c7c498\n",
            "\n",
            "** Untitled.ipynb **\n",
            "shake_256: 23e3390643842eb6c0ef6ebe79ae67f18b3c716d3d1e43e0b78ecfb6767f9927a6b26e28d0fbb7ca300ba018802260f46101fdd5028075ac681f30b2fc6f749a554194340e174702b27f34de005a728ca3b39074b8a3ee56b40ab2db676c3a3ca2c726cf4ebfe7e0a0b00b4e56c09dd00999b5c0032dc9c61b619bb322735bde\n",
            "sha384: 5c9f708b93b4b358ab97240afa00e4f995f084aa313f974dcb360f83a55839d8f7c2081e21865b57d430244448bace16\n",
            "sha3_384: 556c03ed228614f26875138ca9919cd9e535bd1ff93bf1d779b8d02d2ccae5fde7cf3947e7f29c3a73d86b800a83c4c1\n",
            "sha512: 5873705e7c001139a5929fe5230871ff14102b8a43342095f2d102c18eea4c1dec6bf81cf510e744e7c738f7ba13b30ca48474347911cd8bee8eee3293fdf6ce\n",
            "sha256: 49dccb1c9757494fe723a4138687ea48c73d81c20caba1302f4e4d0084abe2c1\n",
            "sha3_512: 6ed198601937a5f5d2666229e492b1d2fbc70e0455adccd39c3ea77722b3347e0b74a8c5bf582c0c2fe8760d2e93339ee9b0187d77938dd8730fdaed9c53eaf0\n",
            "sha3_256: 571a40746efe2080c44f0818295f0833f9a260a13c460b5af0efe23bf4d575d9\n",
            "sha1: ab6e03dfe49328980223cb25f12cfb83b9231500\n",
            "sha224: 7c9d76404717c391acfce41cbc3748dc4bbf1e9bc8e151f0c8c3fd52\n",
            "blake2s: 2d9b0ca8af69d0a17ddfe27919f5d5b2f6169a71c24bd972f4f64c388f49cc36\n",
            "md5: 16eefa9af6fb2665a4791c03e4013405\n",
            "sha3_224: 79821a0b825adba4eb6f91734e5a490261701dcb5b47a64775ff0d70\n",
            "shake_128: 65faccc4550d1b4654ae4985cc9ff02494fe737fe8598981ea0fc31d3bf216b2ea450b621ceef73c5f35d075b204caa7b89a3d0fd31a3869e8929b0dc48c14734eb58ecba727a1e55fa2958302bdef52979e60342cb625dc7615c56705511ff74817bfe646f1f8bf8fec832a33ca1af147dccd29e3c53cade760269fe75e2246\n",
            "blake2b: be4856a11450d46c1b32d8e5d0e8da43e2b8ea7ef7a99844d6e71f80461fb4f2520f6b4ece7680d0869bc4e9b3c0619f163e0f1cc6c5947f84142948322ad446\n",
            "\n",
            "** Untitled1.ipynb **\n",
            "shake_256: d56685cfecfd99413fd9cb375aab1955a6efcc2a0bf553c9bef54cb28f62a50425499561f1c69d011ca978aab84bc746b1b934c5f301fede587178dfd62178d66863b0da1740365c29ec8b1a8c8e775c84d2f52b17fcc0736b42ab432623ec6be0903ea63e0610c21b25b188b6ceda33cbf40f5909dbeaaf4843b676d36a07c4\n",
            "sha384: 98781179b95c473a5eba484393ea7b9d8eae1232b974663896d87bc511fdbba8bfdebda227565fc62188a4b7d330ca55\n",
            "sha3_384: a7713e79f0c1a04dffbbf08ae4984a5c41bb7138b491035dfde58aee0f56a9f929d258b742f3baacdc0fbb080b9c89e6\n",
            "sha512: 688d2e655e2a3545e20d20c5fd2905d59b5dea4a13503a84582d477b33aaa9e3c03c117d41e078c2ec531e3a48635d711b666074f6672d17b0f5f294f89506f9\n",
            "sha256: 3a762d66fd354cb330bd7a80010b68edb3ab68607f086272a29224f48c540c64\n",
            "sha3_512: 3a14aca5669c7a6bd7156a71336c414821a9b82e7739b7f2233d9cb2a0155f5bbd397b8ad81b39918e19239ffbe23518180dfab7d25f9d637632469cc0399b3c\n",
            "sha3_256: 171e79d70d23db2ae6faa8193bc9e6b0d0c759e30252abc4e4f90aa54f5a993e\n",
            "sha1: fdf0bb2bc9bb68dad801e7372e9cadfaf46329a9\n",
            "sha224: b3b51a8284292a25fd7e54ea463aed9f6bf39b12521e27b9fb98c058\n",
            "blake2s: 3c1b03b9a90a0bc19ea25bf01c76544c4a9814819b53304f7ab0ea9c5ace8d4b\n",
            "md5: 172116862c74fa1d240ae29021ecaba1\n",
            "sha3_224: 10ac04867022d84ae286afedb7a2167a1697548e2a1b964efdd8861b\n",
            "shake_128: cce7758f5c702018702411214a9303b1c41cca9e577f11f4818e08a2d86dae925d207e5541737f8a2d7609c1af17f8173610283e5ae68275b31b0bdbb263492698430cabf906bb4ccc0d49f908ed2c5c85d5a058c9a819c2bd229fcb223f063ce97f845ef81cb7e8ccc833aa5e211555e2dd6cf30f9a3611f60608b6bfe7704d\n",
            "blake2b: 1d8bec3943d6d211cc4004a56af40fb0421dbb2b0704e5e9d5b07787b5d05afb93efa4503d28adc7f162a240c55fbf2dc1113c0bb259182343593af0bc9c0e90\n",
            "\n"
          ]
        }
      ],
      "source": [
        "import hashlib\n",
        "from os import listdir\n",
        "from os.path import isdir, islink\n",
        "for filename in listdir(\".\"):\n",
        "    if not isdir(filename) and not islink(filename):\n",
        "        try:\n",
        "            f = open(filename, \"rb\")\n",
        "        except IOError as e:\n",
        "            print(e)\n",
        "        else:\n",
        "            data = f.read()\n",
        "            f.close()\n",
        "            print(\"** %s **\" % filename)\n",
        "            for algorithm in hashlib.algorithms_guaranteed:\n",
        "                h = hashlib.new(algorithm)\n",
        "                h.update(data)\n",
        "                try:\n",
        "                    hexdigest = h.hexdigest()\n",
        "                except TypeError:\n",
        "                    hexdigest = h.hexdigest(128)\n",
        "                print(\"%s: %s\" % (algorithm, hexdigest))\n",
        "            print()"
      ]
    },
    {
      "cell_type": "markdown",
      "id": "cc7d5388-4cbf-4c9d-b378-d65e58e4bacc",
      "metadata": {
        "id": "cc7d5388-4cbf-4c9d-b378-d65e58e4bacc"
      },
      "source": [
        "Pero si queremos hacer esto para archivos grandes no podemos leerlos de un solo bloque, para esto nos valdremos del método chunk que puede ir agregando trozos al hash, preservando el valor anterior.\n",
        "\n",
        "El siguiente código nos muestra cómo calcular el hash MD5 de un archivo muy grande."
      ]
    },
    {
      "cell_type": "code",
      "execution_count": null,
      "id": "1235171e-470b-4dd6-9242-3b619149198a",
      "metadata": {
        "tags": [],
        "id": "1235171e-470b-4dd6-9242-3b619149198a",
        "outputId": "29f1039c-37cc-471f-e341-d570e0fb97b5",
        "colab": {
          "base_uri": "https://localhost:8080/",
          "height": 322
        }
      },
      "outputs": [
        {
          "output_type": "error",
          "ename": "FileNotFoundError",
          "evalue": "ignored",
          "traceback": [
            "\u001b[0;31m---------------------------------------------------------------------------\u001b[0m",
            "\u001b[0;31mFileNotFoundError\u001b[0m                         Traceback (most recent call last)",
            "\u001b[0;32m<ipython-input-3-c764e3f9413c>\u001b[0m in \u001b[0;36m<module>\u001b[0;34m\u001b[0m\n\u001b[1;32m     14\u001b[0m     \u001b[0;32mreturn\u001b[0m \u001b[0mmd5\u001b[0m\u001b[0;34m.\u001b[0m\u001b[0mdigest\u001b[0m\u001b[0;34m(\u001b[0m\u001b[0;34m)\u001b[0m\u001b[0;34m\u001b[0m\u001b[0;34m\u001b[0m\u001b[0m\n\u001b[1;32m     15\u001b[0m \u001b[0;34m\u001b[0m\u001b[0m\n\u001b[0;32m---> 16\u001b[0;31m \u001b[0mmd5_for_file\u001b[0m\u001b[0;34m(\u001b[0m\u001b[0;34m\"d:/output.mp4\"\u001b[0m\u001b[0;34m,\u001b[0m \u001b[0mhr\u001b[0m\u001b[0;34m=\u001b[0m\u001b[0;32mTrue\u001b[0m\u001b[0;34m)\u001b[0m\u001b[0;34m\u001b[0m\u001b[0;34m\u001b[0m\u001b[0m\n\u001b[0m",
            "\u001b[0;32m<ipython-input-3-c764e3f9413c>\u001b[0m in \u001b[0;36mmd5_for_file\u001b[0;34m(path, block_size, hr)\u001b[0m\n\u001b[1;32m      7\u001b[0m     '''\n\u001b[1;32m      8\u001b[0m     \u001b[0mmd5\u001b[0m \u001b[0;34m=\u001b[0m \u001b[0mhashlib\u001b[0m\u001b[0;34m.\u001b[0m\u001b[0mmd5\u001b[0m\u001b[0;34m(\u001b[0m\u001b[0;34m)\u001b[0m\u001b[0;34m\u001b[0m\u001b[0;34m\u001b[0m\u001b[0m\n\u001b[0;32m----> 9\u001b[0;31m     \u001b[0;32mwith\u001b[0m \u001b[0mopen\u001b[0m\u001b[0;34m(\u001b[0m\u001b[0mpath\u001b[0m\u001b[0;34m,\u001b[0m\u001b[0;34m'rb'\u001b[0m\u001b[0;34m)\u001b[0m \u001b[0;32mas\u001b[0m \u001b[0mf\u001b[0m\u001b[0;34m:\u001b[0m\u001b[0;34m\u001b[0m\u001b[0;34m\u001b[0m\u001b[0m\n\u001b[0m\u001b[1;32m     10\u001b[0m         \u001b[0;32mfor\u001b[0m \u001b[0mchunk\u001b[0m \u001b[0;32min\u001b[0m \u001b[0miter\u001b[0m\u001b[0;34m(\u001b[0m\u001b[0;32mlambda\u001b[0m\u001b[0;34m:\u001b[0m \u001b[0mf\u001b[0m\u001b[0;34m.\u001b[0m\u001b[0mread\u001b[0m\u001b[0;34m(\u001b[0m\u001b[0mblock_size\u001b[0m\u001b[0;34m)\u001b[0m\u001b[0;34m,\u001b[0m \u001b[0;34mb''\u001b[0m\u001b[0;34m)\u001b[0m\u001b[0;34m:\u001b[0m\u001b[0;34m\u001b[0m\u001b[0;34m\u001b[0m\u001b[0m\n\u001b[1;32m     11\u001b[0m              \u001b[0mmd5\u001b[0m\u001b[0;34m.\u001b[0m\u001b[0mupdate\u001b[0m\u001b[0;34m(\u001b[0m\u001b[0mchunk\u001b[0m\u001b[0;34m)\u001b[0m\u001b[0;34m\u001b[0m\u001b[0;34m\u001b[0m\u001b[0m\n",
            "\u001b[0;31mFileNotFoundError\u001b[0m: [Errno 2] No such file or directory: 'd:/output.mp4'"
          ]
        }
      ],
      "source": [
        "import hashlib\n",
        "def md5_for_file(path, block_size=256*128, hr=False):\n",
        "    '''\n",
        "    Block size directly depends on the block size of your filesystem\n",
        "    to avoid performances issues\n",
        "    Here I have blocks of 4096 octets (Default NTFS)\n",
        "    '''\n",
        "    md5 = hashlib.md5()\n",
        "    with open(path,'rb') as f: \n",
        "        for chunk in iter(lambda: f.read(block_size), b''): \n",
        "             md5.update(chunk)\n",
        "    if hr:\n",
        "        return md5.hexdigest()\n",
        "    return md5.digest()\n",
        "\n",
        "md5_for_file(\"d:/output.mp4\", hr=True)"
      ]
    },
    {
      "cell_type": "markdown",
      "id": "5e7d510f-4db9-44d2-9e4b-86a35935bb46",
      "metadata": {
        "id": "5e7d510f-4db9-44d2-9e4b-86a35935bb46"
      },
      "source": [
        "## Ejercicio\n",
        "Consiga una imagen .iso de su distribución de linux favorita. Busque en la página oficial los checksums (SHA256 o MD5). Ulilice lo aprendido en este capítulo para verificar la integridad de su archivo.\n",
        "Por ejemplo:\n",
        "Para le versión de Ubuntu 20.04.4 desktop x64 el checksum está en https://releases.ubuntu.com/20.04/"
      ]
    }
  ],
  "metadata": {
    "kernelspec": {
      "display_name": "Python 3 (ipykernel)",
      "language": "python",
      "name": "python3"
    },
    "language_info": {
      "codemirror_mode": {
        "name": "ipython",
        "version": 3
      },
      "file_extension": ".py",
      "mimetype": "text/x-python",
      "name": "python",
      "nbconvert_exporter": "python",
      "pygments_lexer": "ipython3",
      "version": "3.7.4"
    },
    "colab": {
      "provenance": []
    }
  },
  "nbformat": 4,
  "nbformat_minor": 5
}
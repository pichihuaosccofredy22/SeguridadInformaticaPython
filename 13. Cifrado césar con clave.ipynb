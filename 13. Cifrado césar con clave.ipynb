{
 "cells": [
  {
   "cell_type": "markdown",
   "id": "l9U6WI_RjxuP",
   "metadata": {
    "id": "l9U6WI_RjxuP"
   },
   "source": [
    "# Cifrado César con clave"
   ]
  },
  {
   "cell_type": "markdown",
   "id": "a247dde6",
   "metadata": {
    "id": "a247dde6"
   },
   "source": [
    "Para cifrar es conveniente quitar las tildes del texto en claro"
   ]
  },
  {
   "cell_type": "raw",
   "id": "497b4db4-571c-474c-aa56-460788661347",
   "metadata": {
    "id": "b238f028"
   },
   "source": [
    "def quitaTildes(cadena):\n",
    "    noPermitidos = 'áéíóúü'\n",
    "    permitidos = 'aeiouu'\n",
    "    trans = cadena.maketrans(noPermitidos, permitidos)\n",
    "    return cadena.translate(trans)"
   ]
  },
  {
   "cell_type": "code",
   "execution_count": 3,
   "id": "88795c68",
   "metadata": {
    "colab": {
     "base_uri": "https://localhost:8080/",
     "height": 35
    },
    "id": "88795c68",
    "outputId": "b524b272-71a9-41e1-caf1-f1f099b82bed"
   },
   "outputs": [
    {
     "data": {
      "text/plain": [
       "'ivan soria solis'"
      ]
     },
     "execution_count": 3,
     "metadata": {},
     "output_type": "execute_result"
    }
   ],
   "source": [
    "quitaTildes(\"iván soria solís\")"
   ]
  },
  {
   "cell_type": "markdown",
   "id": "3ddc1da4",
   "metadata": {
    "id": "3ddc1da4"
   },
   "source": [
    "También podemos normalizar las cadenas de forma que quitemos los espacios en blanco y convertimos todos los caracteres a mayúsculas, a la vez que quiamos las tiles con la función implementada anteriormente."
   ]
  },
  {
   "cell_type": "code",
   "execution_count": 6,
   "id": "c4e459a9",
   "metadata": {
    "id": "c4e459a9"
   },
   "outputs": [],
   "source": [
    "def normalizaTexto(cadena):\n",
    "    cadena = quitaTildes(cadena)\n",
    "    cadena = cadena.split()\n",
    "    cadena = ''.join(cadena) \n",
    "    return cadena.upper()"
   ]
  },
  {
   "cell_type": "code",
   "execution_count": 7,
   "id": "a62d9985",
   "metadata": {
    "colab": {
     "base_uri": "https://localhost:8080/",
     "height": 35
    },
    "id": "a62d9985",
    "outputId": "63ce7545-2166-4187-a340-b5b12c7f2bd1"
   },
   "outputs": [
    {
     "data": {
      "text/plain": [
       "'IVANSORIASOLIS'"
      ]
     },
     "execution_count": 7,
     "metadata": {},
     "output_type": "execute_result"
    }
   ],
   "source": [
    "normalizaTexto(\"iván soria solis\")"
   ]
  },
  {
   "cell_type": "markdown",
   "id": "iokh8uj0iXhY",
   "metadata": {
    "id": "iokh8uj0iXhY"
   },
   "source": [
    "Si utilizamos una clave para generar un alfabeto"
   ]
  },
  {
   "cell_type": "code",
   "execution_count": 8,
   "id": "c76f962f",
   "metadata": {
    "id": "c76f962f"
   },
   "outputs": [],
   "source": [
    "def recortaClave(clave):\n",
    "    claveRecort = ''\n",
    "    for c in clave:\n",
    "        if not c in claveRecort:\n",
    "            claveRecort += c\n",
    "    return claveRecort\n",
    "\n",
    "def generaAlfabeto(alfabeto, clave, p0 = 0 ):\n",
    "    claveRecort = recortaClave(clave)\n",
    "    claveNorm = normalizaTexto(claveRecort)\n",
    "    for carClave in claveNorm:\n",
    "        if carClave in alfabeto:\n",
    "            alfabeto = alfabeto.replace(carClave,'')\n",
    "    return claveNorm + alfabeto"
   ]
  },
  {
   "cell_type": "code",
   "execution_count": 9,
   "id": "aa6dbbeb-58f5-42c7-8b18-bd6f48cc42cd",
   "metadata": {},
   "outputs": [
    {
     "data": {
      "text/plain": [
       "'ALFROME'"
      ]
     },
     "execution_count": 9,
     "metadata": {},
     "output_type": "execute_result"
    }
   ],
   "source": [
    "recortaClave(\"ALFAROMEO\")"
   ]
  },
  {
   "cell_type": "code",
   "execution_count": 19,
   "id": "Y7pN1UXyihMu",
   "metadata": {
    "colab": {
     "base_uri": "https://localhost:8080/",
     "height": 35
    },
    "id": "Y7pN1UXyihMu",
    "outputId": "ec7e98db-ef63-4643-84c6-c6c1070f2d6a"
   },
   "outputs": [
    {
     "data": {
      "text/plain": [
       "'ALFROMEBCDGHIJKNÑPQSTUVWXYZ'"
      ]
     },
     "execution_count": 19,
     "metadata": {},
     "output_type": "execute_result"
    }
   ],
   "source": [
    "generaAlfabeto('ABCDEFGHIJKLMNÑOPQRSTUVWXYZ', 'ALFAROMEO', 2)"
   ]
  },
  {
   "cell_type": "markdown",
   "id": "hURGAaMyixeW",
   "metadata": {
    "id": "hURGAaMyixeW"
   },
   "source": [
    "Con estos métodos podemos ya cifrar y descifrar"
   ]
  },
  {
   "cell_type": "code",
   "execution_count": 11,
   "id": "BTzFuCRti4zN",
   "metadata": {
    "id": "BTzFuCRti4zN"
   },
   "outputs": [],
   "source": [
    "def cifrar(alfabeto, texto, clave):\n",
    "    alfabetoCifrado = generaAlfabeto(alfabeto, clave)\n",
    "    texto = normalizaTexto(texto)\n",
    "    textoCifrado = ''\n",
    "    for c in texto:\n",
    "        posicion = alfabeto.find(c)\n",
    "        textoCifrado += alfabetoCifrado[posicion]\n",
    "    return textoCifrado"
   ]
  },
  {
   "cell_type": "code",
   "execution_count": 13,
   "id": "W2saO5V2i7ON",
   "metadata": {
    "colab": {
     "base_uri": "https://localhost:8080/",
     "height": 35
    },
    "id": "W2saO5V2i7ON",
    "outputId": "b5b3d0eb-d669-46a2-f705-a97899a4f232"
   },
   "outputs": [
    {
     "data": {
      "text/plain": [
       "'BNHAFNINOSTAJ'"
      ]
     },
     "execution_count": 13,
     "metadata": {},
     "output_type": "execute_result"
    }
   ],
   "source": [
    "mensajecifrado = cifrar('ABCDEFGHIJKLMNÑOPQRSTUVWXYZ', 'Hola como están', 'ALFAROMEO')\n",
    "mensajecifrado"
   ]
  },
  {
   "cell_type": "code",
   "execution_count": 14,
   "id": "KTzFhzl0jRbm",
   "metadata": {
    "id": "KTzFhzl0jRbm"
   },
   "outputs": [],
   "source": [
    "def descifrar(alfabeto, textoCifrado, clave):\n",
    "    alfabetoCifrado = generaAlfabeto(alfabeto, clave)\n",
    "    textoCifrado = normalizaTexto(textoCifrado)\n",
    "    textoDescifrado = ''\n",
    "    for c in textoCifrado:\n",
    "        posicion = alfabetoCifrado.find(c)\n",
    "        textoDescifrado += alfabeto[posicion]\n",
    "    return textoDescifrado"
   ]
  },
  {
   "cell_type": "code",
   "execution_count": 15,
   "id": "jAat2lZDjVZt",
   "metadata": {
    "colab": {
     "base_uri": "https://localhost:8080/",
     "height": 35
    },
    "id": "jAat2lZDjVZt",
    "outputId": "5a4d9b01-8bb3-4c9a-c56a-e7516ba3cb45"
   },
   "outputs": [
    {
     "data": {
      "text/plain": [
       "'HOLACOMOESTAN'"
      ]
     },
     "execution_count": 15,
     "metadata": {},
     "output_type": "execute_result"
    }
   ],
   "source": [
    "descifrar('ABCDEFGHIJKLMNÑOPQRSTUVWXYZ', mensajecifrado, 'ALFAROMEO')"
   ]
  },
  {
   "cell_type": "markdown",
   "id": "d90e1249-e551-4902-9551-417376495abb",
   "metadata": {
    "tags": []
   },
   "source": [
    "## Ejercicio\n",
    "El método `generaAlfabeto(alfabeto,clave)` implementado previamente no incluye una posición inicial $p_0$ desde donde insertar la clave. Modifique el método `generaAlfabeto` de forma que incluya un parámetro adicional por defecto `generaAlfabeto(alfabeto,clave, p0 = 0)` que cuando se le asigna un valor a $p_0$ empiece la inserción de la clave desde esta posición y si no se especifica asuma que es 0.\n",
    "Compruebe su implementación con el ejemplo de la teoría. \n",
    "\n",
    "K = POBRECHUCHOSIBERIANO \n",
    "\n",
    "Con p0 = 2.\n",
    "\n",
    "M = APERROFLACOTODOSONPULGAS\n",
    "\n",
    "Debe dar como resultado el mensaje cifrado\n",
    "\n",
    "C = YGBKKFRIYPFMFOFLFNGÑIEYL"
   ]
  },
  {
   "cell_type": "code",
   "execution_count": 33,
   "id": "34a99046-12ba-43ed-8a4f-a2b199b6b3d7",
   "metadata": {},
   "outputs": [],
   "source": [
    "def generaAlfabeto(alfabeto, clave, p0):\n",
    "    claveRecort = recortaClave(clave)\n",
    "    claveNorm = normalizaTexto(claveRecort)\n",
    "    for carClave in claveNorm:\n",
    "        if carClave in alfabeto:\n",
    "            alfabeto = alfabeto.replace(carClave,'')\n",
    "    clave = claveNorm + alfabeto\n",
    "    return clave[-p0:]+clave[:-p0]\n",
    "\n",
    "def cifrar(alfabeto, texto, clave, p0 = 0):\n",
    "    alfabetoCifrado = generaAlfabeto(alfabeto, clave, p0)\n",
    "    texto = normalizaTexto(texto)\n",
    "    textoCifrado = ''\n",
    "    for c in texto:\n",
    "        posicion = alfabeto.find(c)\n",
    "        textoCifrado += alfabetoCifrado[posicion]\n",
    "    return textoCifrado"
   ]
  },
  {
   "cell_type": "code",
   "execution_count": 27,
   "id": "ce4978bb-beee-4bb8-a098-5bd384bfb57a",
   "metadata": {
    "tags": []
   },
   "outputs": [
    {
     "data": {
      "text/plain": [
       "'YZPOBRECHUSIANDFGJKLMÑQTVWX'"
      ]
     },
     "execution_count": 27,
     "metadata": {},
     "output_type": "execute_result"
    }
   ],
   "source": [
    "generaAlfabeto('ABCDEFGHIJKLMNÑOPQRSTUVWXYZ', 'POBRE CHUCHO SIBERIANO', 2)"
   ]
  },
  {
   "cell_type": "code",
   "execution_count": 34,
   "id": "c488da20-2bcf-4a01-91a4-dd880e65cbae",
   "metadata": {},
   "outputs": [
    {
     "data": {
      "text/plain": [
       "'YGBKKFRIYPFMFOFLFNGÑIEYL'"
      ]
     },
     "execution_count": 34,
     "metadata": {},
     "output_type": "execute_result"
    }
   ],
   "source": [
    "cifrar('ABCDEFGHIJKLMNÑOPQRSTUVWXYZ', 'APERROFLACOTODOSONPULGAS', 'POBRECHUCHOSIBERIANO', 2)"
   ]
  }
 ],
 "metadata": {
  "colab": {
   "collapsed_sections": [],
   "name": "Cifrado clásico.ipynb",
   "provenance": []
  },
  "kernelspec": {
   "display_name": "Python 3 (ipykernel)",
   "language": "python",
   "name": "python3"
  },
  "language_info": {
   "codemirror_mode": {
    "name": "ipython",
    "version": 3
   },
   "file_extension": ".py",
   "mimetype": "text/x-python",
   "name": "python",
   "nbconvert_exporter": "python",
   "pygments_lexer": "ipython3",
   "version": "3.9.7"
  }
 },
 "nbformat": 4,
 "nbformat_minor": 5
}

{
  "nbformat": 4,
  "nbformat_minor": 0,
  "metadata": {
    "colab": {
      "provenance": []
    },
    "kernelspec": {
      "name": "python3",
      "display_name": "Python 3"
    },
    "language_info": {
      "name": "python"
    }
  },
  "cells": [
    {
      "cell_type": "markdown",
      "source": [
        "Para seguir el presente tutorial necesitamos la biblioteca cryptography"
      ],
      "metadata": {
        "id": "Hfuho5_5tHtt"
      }
    },
    {
      "cell_type": "code",
      "source": [
        "!pip install cryptography"
      ],
      "metadata": {
        "colab": {
          "base_uri": "https://localhost:8080/"
        },
        "id": "uex-TcxxrE30",
        "outputId": "0158684d-2421-4994-c81d-1b70eb4ef71b"
      },
      "execution_count": null,
      "outputs": [
        {
          "output_type": "stream",
          "name": "stdout",
          "text": [
            "Looking in indexes: https://pypi.org/simple, https://us-python.pkg.dev/colab-wheels/public/simple/\n",
            "Collecting cryptography\n",
            "  Downloading cryptography-37.0.4-cp36-abi3-manylinux_2_24_x86_64.whl (4.1 MB)\n",
            "\u001b[K     |████████████████████████████████| 4.1 MB 8.2 MB/s \n",
            "\u001b[?25hRequirement already satisfied: cffi>=1.12 in /usr/local/lib/python3.7/dist-packages (from cryptography) (1.15.1)\n",
            "Requirement already satisfied: pycparser in /usr/local/lib/python3.7/dist-packages (from cffi>=1.12->cryptography) (2.21)\n",
            "Installing collected packages: cryptography\n",
            "Successfully installed cryptography-37.0.4\n"
          ]
        }
      ]
    },
    {
      "cell_type": "markdown",
      "source": [
        "También vamos a necesitar un archivo para cifrar y descifrar. Esto se puede hacer de mucha maneras pero en este caso vamos a descargar una imagen."
      ],
      "metadata": {
        "id": "0tQfLtgF1Wdn"
      }
    },
    {
      "cell_type": "code",
      "source": [
        "import urllib.request\n",
        "urllib.request.urlretrieve(\"https://github.com/mikolalysenko/lena/raw/master/lena.png\", \"lena.png\")"
      ],
      "metadata": {
        "colab": {
          "base_uri": "https://localhost:8080/"
        },
        "id": "o_dDCHcY1hG6",
        "outputId": "82b848f5-7103-4510-feba-a254fb38b4c4"
      },
      "execution_count": null,
      "outputs": [
        {
          "output_type": "execute_result",
          "data": {
            "text/plain": [
              "('lena.png', <http.client.HTTPMessage at 0x7f53712e3d50>)"
            ]
          },
          "metadata": {},
          "execution_count": 2
        }
      ]
    },
    {
      "cell_type": "code",
      "source": [],
      "metadata": {
        "id": "iA4q93nuc1SZ"
      },
      "execution_count": null,
      "outputs": []
    },
    {
      "cell_type": "markdown",
      "source": [
        "## Creando una clave\n",
        "Fernet permite leer y esribir un archivo con una clave. Vamos a crear la clave y guardarla en la misma carpeta de nuestro archivo de datos. Se pueden leer detalles técnicos de Fernet aqui https://github.com/fernet/spec/blob/master/Spec.md"
      ],
      "metadata": {
        "id": "SNQm1lmJtNQU"
      }
    },
    {
      "cell_type": "code",
      "execution_count": null,
      "metadata": {
        "id": "-_PRBjG4qyeQ"
      },
      "outputs": [],
      "source": [
        "from cryptography.fernet import Fernet\n",
        "key = Fernet.generate_key()\n",
        "\n",
        "with open('mykey.key', 'wb') as mykey:\n",
        "    mykey.write(key)"
      ]
    },
    {
      "cell_type": "markdown",
      "source": [
        "El archivo mykey.key contiene ahora una linea con algunos caracteres."
      ],
      "metadata": {
        "id": "ymm7jBJkuObW"
      }
    },
    {
      "cell_type": "markdown",
      "source": [
        "## Cargando la clave\n",
        "Después de generar la clave de cifrado necesitamos cargarla en nuestro entorno con el fin de encriptar y desencriptar los archivos."
      ],
      "metadata": {
        "id": "fVCdTFY6uWQK"
      }
    },
    {
      "cell_type": "code",
      "source": [
        "with open('mykey.key', 'rb') as mykey:\n",
        "    key = mykey.read()\n",
        "\n",
        "print(key)"
      ],
      "metadata": {
        "colab": {
          "base_uri": "https://localhost:8080/"
        },
        "id": "_JhoNnWGulls",
        "outputId": "25a5f49f-7711-4ece-afde-8bf105b72a7b"
      },
      "execution_count": null,
      "outputs": [
        {
          "output_type": "stream",
          "name": "stdout",
          "text": [
            "b'0mw5mP61P77b7EpOoCQpeDDiRG-Ya-KN5unDgB_NiaM='\n"
          ]
        }
      ]
    },
    {
      "cell_type": "markdown",
      "source": [
        "## Encriptando un archivo\n",
        "Ahora que tenemos un archivo para encriptar y la clave de encriptación, procedemos a cifrarlo."
      ],
      "metadata": {
        "id": "k-o4w9nSuse6"
      }
    },
    {
      "cell_type": "code",
      "source": [
        "f = Fernet(key)\n",
        "\n",
        "with open('lena.png', 'rb') as original_file:\n",
        "    original = original_file.read()\n",
        "\n",
        "encrypted = f.encrypt(original)\n",
        "\n",
        "with open ('enc_lena.png', 'wb') as encrypted_file:\n",
        "    encrypted_file.write(encrypted)"
      ],
      "metadata": {
        "id": "6rB1vOuPu7Db"
      },
      "execution_count": null,
      "outputs": []
    },
    {
      "cell_type": "markdown",
      "source": [
        "Lo que hemos hecho es:\n",
        "* Inicializar el objeto Fermet y lo almacenamos en la variabele f\n",
        "* Leemos el archivo original\n",
        "* Ciframos utilizando el objeto Fermet\n",
        "* Escribimos el contenido cifrado en un nuevo archivo"
      ],
      "metadata": {
        "id": "p5_gEUDbveJ1"
      }
    },
    {
      "cell_type": "markdown",
      "source": [
        "## Desencriptando un archivo\n",
        "Después de encriptar un archivo, por ejemplo, enviarlo a otra localización, deseas acceder a éste. \n",
        "\n",
        "El proceso es similar pero ahora vamos del archivo encriptado al archivo desencriptado."
      ],
      "metadata": {
        "id": "DnIRVK1Yv3WL"
      }
    },
    {
      "cell_type": "code",
      "source": [
        "f = Fernet(key)\n",
        "\n",
        "with open('enc_lena.png', 'rb') as encrypted_file:\n",
        "    encrypted = encrypted_file.read()\n",
        "\n",
        "decrypted = f.decrypt(encrypted)\n",
        "\n",
        "with open('dec_lena.png', 'wb') as decrypted_file:\n",
        "    decrypted_file.write(decrypted)"
      ],
      "metadata": {
        "id": "ujOgs5VuyQRB"
      },
      "execution_count": null,
      "outputs": []
    },
    {
      "cell_type": "markdown",
      "source": [
        "## Programa completo orientado a objetos\n",
        "Si organizamos todo de una forma mas estructurada"
      ],
      "metadata": {
        "id": "9xXBCUt2ymlE"
      }
    },
    {
      "cell_type": "code",
      "source": [
        "class Encryptor():\n",
        "\n",
        "    def key_create(self):\n",
        "        key = Fernet.generate_key()\n",
        "        return key\n",
        "\n",
        "    def key_write(self, key, key_name):\n",
        "        with open(key_name, 'wb') as mykey:\n",
        "            mykey.write(key)\n",
        "\n",
        "    def key_load(self, key_name):\n",
        "        with open(key_name, 'rb') as mykey:\n",
        "            key = mykey.read()\n",
        "        return key\n",
        "\n",
        "\n",
        "    def file_encrypt(self, key, original_file, encrypted_file):\n",
        "        \n",
        "        f = Fernet(key)\n",
        "\n",
        "        with open(original_file, 'rb') as file:\n",
        "            original = file.read()\n",
        "\n",
        "        encrypted = f.encrypt(original)\n",
        "\n",
        "        with open (encrypted_file, 'wb') as file:\n",
        "            file.write(encrypted)\n",
        "\n",
        "    def file_decrypt(self, key, encrypted_file, decrypted_file):\n",
        "        \n",
        "        f = Fernet(key)\n",
        "\n",
        "        with open(encrypted_file, 'rb') as file:\n",
        "            encrypted = file.read()\n",
        "\n",
        "        decrypted = f.decrypt(encrypted)\n",
        "\n",
        "        with open(decrypted_file, 'wb') as file:\n",
        "            file.write(decrypted)"
      ],
      "metadata": {
        "id": "TlOyqJdayy3e"
      },
      "execution_count": null,
      "outputs": []
    },
    {
      "cell_type": "markdown",
      "source": [
        "Utilizando la clase anterior para cifrar y descifrar"
      ],
      "metadata": {
        "id": "TbnPRxqLy3Pn"
      }
    },
    {
      "cell_type": "code",
      "source": [
        "encryptor=Encryptor()\n",
        "\n",
        "mykey=encryptor.key_create()\n",
        "\n",
        "encryptor.key_write(mykey, 'mykey.key')\n",
        "\n",
        "loaded_key=encryptor.key_load('mykey.key')\n",
        "\n",
        "encryptor.file_encrypt(loaded_key, 'lena.png', 'enc_lena.png')\n",
        "\n",
        "encryptor.file_decrypt(loaded_key, 'enc_lena.png', 'dec_lena.png')"
      ],
      "metadata": {
        "id": "zFzn8dDcy-1p"
      },
      "execution_count": null,
      "outputs": []
    }
  ]
}
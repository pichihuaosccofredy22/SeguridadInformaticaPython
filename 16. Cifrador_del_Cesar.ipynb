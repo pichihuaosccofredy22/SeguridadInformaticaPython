{
  "cells": [
    {
      "cell_type": "markdown",
      "id": "4a5d7427",
      "metadata": {
        "id": "4a5d7427"
      },
      "source": [
        "# Cifrado césar (sin clave)"
      ]
    },
    {
      "cell_type": "code",
      "execution_count": null,
      "id": "e5cab89d",
      "metadata": {
        "id": "e5cab89d"
      },
      "outputs": [],
      "source": [
        "Mi = \"ABCDEFGHIJKLMNOPQRSTUVWXYZ\"\n",
        "Ci = \"DEFGHIJKLMNOPQRSTUVWXYZABC\"\n",
        "M = \"CESARELEMPERADORHASIDOASESINADO\"\n",
        "C = \"\""
      ]
    },
    {
      "cell_type": "markdown",
      "id": "2463b462",
      "metadata": {
        "id": "2463b462"
      },
      "source": [
        "Ya puedo sustituir caracteres de un alfabeto en otro buscando la posición"
      ]
    },
    {
      "cell_type": "code",
      "execution_count": null,
      "id": "367e4c5a",
      "metadata": {
        "scrolled": true,
        "id": "367e4c5a",
        "outputId": "cfd79e2b-453b-4790-b1d7-136a64246a78",
        "colab": {
          "base_uri": "https://localhost:8080/",
          "height": 35
        }
      },
      "outputs": [
        {
          "output_type": "execute_result",
          "data": {
            "text/plain": [
              "'F'"
            ],
            "application/vnd.google.colaboratory.intrinsic+json": {
              "type": "string"
            }
          },
          "metadata": {},
          "execution_count": 2
        }
      ],
      "source": [
        "pos = Mi.find('C') #busco C en el alfabeto original\n",
        "Ci[pos]"
      ]
    },
    {
      "cell_type": "markdown",
      "id": "06dce8ce",
      "metadata": {
        "id": "06dce8ce"
      },
      "source": [
        "Pero necesitamos hacerlo de forma automática"
      ]
    },
    {
      "cell_type": "code",
      "execution_count": null,
      "id": "eb215999",
      "metadata": {
        "id": "eb215999",
        "outputId": "83b76944-7e7d-4808-e5d5-e72be14d8e04",
        "colab": {
          "base_uri": "https://localhost:8080/"
        }
      },
      "outputs": [
        {
          "output_type": "stream",
          "name": "stdout",
          "text": [
            "FHVDUHOHPSHUDGRUKDVLGRDVHVLQDGR\n"
          ]
        }
      ],
      "source": [
        "for cm in M:\n",
        "    pos = Mi.find(cm)\n",
        "    C += Ci[pos]\n",
        "print(C)"
      ]
    },
    {
      "cell_type": "markdown",
      "id": "69b7c7b4",
      "metadata": {
        "id": "69b7c7b4"
      },
      "source": [
        "Para evitar tener que escribir el alfabeto cifrado una y otra vez para cada valor de rotación"
      ]
    },
    {
      "cell_type": "code",
      "execution_count": null,
      "id": "a65aef68",
      "metadata": {
        "id": "a65aef68",
        "outputId": "2eb15b56-7b22-4092-de6c-153ca9971179",
        "colab": {
          "base_uri": "https://localhost:8080/"
        }
      },
      "outputs": [
        {
          "output_type": "stream",
          "name": "stdout",
          "text": [
            "BCDEFGHIJKLMNOPQRSTUVWXYZA\n"
          ]
        }
      ],
      "source": [
        "#rotando el alfabeto de manera burda\n",
        "b = 1  #desplazamiento\n",
        "Ci = \"\"\n",
        "for i in range(len(Mi)-b):\n",
        "    Ci += Mi[i+b]\n",
        "for j in range(b):\n",
        "    Ci += Mi[j]\n",
        "print(Ci)"
      ]
    },
    {
      "cell_type": "code",
      "execution_count": null,
      "id": "5697c145",
      "metadata": {
        "id": "5697c145",
        "outputId": "71a3b0dd-2022-4072-b28a-88568b41f3b5",
        "colab": {
          "base_uri": "https://localhost:8080/"
        }
      },
      "outputs": [
        {
          "output_type": "stream",
          "name": "stdout",
          "text": [
            "ABCDEFGHIJKLMNOPQRSTUVWXYZ\n",
            "DEFGHIJKLMNOPQRSTUVWXYZABC\n"
          ]
        }
      ],
      "source": [
        "#rotando el alfabeto de manera elegante\n",
        "b = 3  #desplazamiento\n",
        "Ci = \"\"\n",
        "Ci = Mi[b:] + Mi[:b]\n",
        "print(Mi)\n",
        "print(Ci)"
      ]
    },
    {
      "cell_type": "markdown",
      "id": "fb37fc92",
      "metadata": {
        "id": "fb37fc92"
      },
      "source": [
        "Ahora definamos una función que haga todo lo anterior y nos devuelva un cifrado "
      ]
    },
    {
      "cell_type": "code",
      "execution_count": null,
      "id": "fb934825",
      "metadata": {
        "id": "fb934825",
        "outputId": "c4965c02-d13b-4e63-d576-4fe6656cf90d",
        "colab": {
          "base_uri": "https://localhost:8080/",
          "height": 35
        }
      },
      "outputs": [
        {
          "output_type": "execute_result",
          "data": {
            "text/plain": [
              "'FHVDUHOHPSHUDGRUKDVLGRDVHVLQDGR'"
            ],
            "application/vnd.google.colaboratory.intrinsic+json": {
              "type": "string"
            }
          },
          "metadata": {},
          "execution_count": 6
        }
      ],
      "source": [
        "def cifra_cesar_1(M, b, Mi=\"ABCDEFGHIJKLMNOPQRSTUVWXYZ\"):\n",
        "    Ci = Mi[b:] + Mi[:b]\n",
        "    C = \"\"\n",
        "    for cm in M:\n",
        "        pos = Mi.find(cm)\n",
        "        C += Ci[pos]\n",
        "    return C\n",
        "\n",
        "cifra_cesar_1(\"CESARELEMPERADORHASIDOASESINADO\", 3)"
      ]
    },
    {
      "cell_type": "code",
      "execution_count": null,
      "id": "c89ae1e2",
      "metadata": {
        "id": "c89ae1e2",
        "outputId": "f3251f36-b2f9-416f-d3d6-4fbe82be5858",
        "colab": {
          "base_uri": "https://localhost:8080/",
          "height": 35
        }
      },
      "outputs": [
        {
          "output_type": "execute_result",
          "data": {
            "text/plain": [
              "'FHVDUHOHPSHUDGRUKDVLGRDVHVLQDGR'"
            ],
            "application/vnd.google.colaboratory.intrinsic+json": {
              "type": "string"
            }
          },
          "metadata": {},
          "execution_count": 7
        }
      ],
      "source": [
        "def cifra_cesar_2(M, b, Mi=\"ABCDEFGHIJKLMNOPQRSTUVWXYZ\"):\n",
        "    Ci = Mi[b:] + Mi[:b]\n",
        "    C = \"\"\n",
        "    for cm in M:\n",
        "        C += chr( ( (ord(cm) + b - 65) % 26 ) + 65)\n",
        "    return C\n",
        "\n",
        "cifra_cesar_2(\"CESARELEMPERADORHASIDOASESINADO\", 3)"
      ]
    },
    {
      "cell_type": "markdown",
      "id": "a0c891d1",
      "metadata": {
        "id": "a0c891d1"
      },
      "source": [
        "Ejercicio:\n",
        "Escribir código para hacer cifrado césar con alfabeto mixto"
      ]
    },
    {
      "cell_type": "code",
      "execution_count": null,
      "id": "182d46c0",
      "metadata": {
        "id": "182d46c0",
        "outputId": "2f0ff8f4-17ea-4b0f-841d-f92d1d1eb6be",
        "colab": {
          "base_uri": "https://localhost:8080/"
        }
      },
      "outputs": [
        {
          "output_type": "stream",
          "name": "stdout",
          "text": [
            "[#(&##%#=%#&$##$#%=%#==%{$=/=%#(#$=#=%&%%(###\n"
          ]
        }
      ],
      "source": [
        "Mi = \"ABCDEFGHIJKLMNOPQRSTUVWXYZ\"\n",
        "Ci = \"&%#$=*¨[(//(%$###%%#{}+#%$\"\n",
        "M = \"HOLACOMOESTANTODOSESTEESUNEJEMPLODECESARMIXTO\"\n",
        "trans = M.maketrans(Mi, Ci)\n",
        "C = M.translate(trans)\n",
        "print(C)\n"
      ]
    }
  ],
  "metadata": {
    "kernelspec": {
      "display_name": "Python 3 (ipykernel)",
      "language": "python",
      "name": "python3"
    },
    "language_info": {
      "codemirror_mode": {
        "name": "ipython",
        "version": 3
      },
      "file_extension": ".py",
      "mimetype": "text/x-python",
      "name": "python",
      "nbconvert_exporter": "python",
      "pygments_lexer": "ipython3",
      "version": "3.9.7"
    },
    "colab": {
      "provenance": [],
      "collapsed_sections": []
    }
  },
  "nbformat": 4,
  "nbformat_minor": 5
}
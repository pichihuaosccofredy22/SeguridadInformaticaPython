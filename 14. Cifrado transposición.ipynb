{
 "cells": [
  {
   "cell_type": "markdown",
   "id": "3f9da819-26cf-4af8-bd69-a403ec09066c",
   "metadata": {},
   "source": [
    "# Cifrado de transposición\n",
    "Para implementar un cifrado de transposición por columnas con una clave numérica"
   ]
  },
  {
   "cell_type": "code",
   "execution_count": 1,
   "id": "583c2f48-297d-4b88-8280-91ee5a2619ee",
   "metadata": {},
   "outputs": [],
   "source": [
    "def transposicion(cadena, key):\n",
    "    cifrado = ''\n",
    "    for i in range(key):\n",
    "        cifrado += cadena[i:len(cadena):key]\n",
    "    return cifrado"
   ]
  },
  {
   "cell_type": "code",
   "execution_count": 2,
   "id": "31d51ae9-6058-40e0-9d50-00526cb24351",
   "metadata": {},
   "outputs": [
    {
     "data": {
      "text/plain": [
       "'NSCLANUTUAEANAADSCRNIBADDCUEEOHE'"
      ]
     },
     "execution_count": 2,
     "metadata": {},
     "output_type": "execute_result"
    }
   ],
   "source": [
    "transposicion(\"NUNCAESTARDECUANDOLADICHAESBUENA\", 6)"
   ]
  },
  {
   "cell_type": "markdown",
   "id": "e475c1d2-36b3-4e90-8d49-cb8478f47dcd",
   "metadata": {},
   "source": [
    "## Ejercicio\n",
    "La función `transposicion` tiene el problema de que si la longitud de la cadena no es un múltiplo de la clave `key`, descifrar haciendo la transposición inversa es imposible porque se pierden las posiciones de columna en las columnas que no llegaron a completarse con el texto en claro.\n",
    "\n",
    "1. Modifique la función `transposicion` para que reciba un caracter de relleno como parámetro y que complete con éste la cadenas de forma que no se pierdan las posiciones de columna (revise la teoría de cifrado de transposición por columnas)\n",
    "\n",
    "2. Implemente una función para descifrar el cifrado de transposición por columnas."
   ]
  }
 ],
 "metadata": {
  "kernelspec": {
   "display_name": "Python 3 (ipykernel)",
   "language": "python",
   "name": "python3"
  },
  "language_info": {
   "codemirror_mode": {
    "name": "ipython",
    "version": 3
   },
   "file_extension": ".py",
   "mimetype": "text/x-python",
   "name": "python",
   "nbconvert_exporter": "python",
   "pygments_lexer": "ipython3",
   "version": "3.7.4"
  }
 },
 "nbformat": 4,
 "nbformat_minor": 5
}

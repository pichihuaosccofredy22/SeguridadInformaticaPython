{
 "cells": [
  {
   "cell_type": "markdown",
   "id": "b8314b3e",
   "metadata": {},
   "source": [
    "# Clases y Objetos"
   ]
  },
  {
   "cell_type": "code",
   "execution_count": 20,
   "id": "1a51d503",
   "metadata": {},
   "outputs": [
    {
     "name": "stdout",
     "output_type": "stream",
     "text": [
      "Juan\n",
      "Hola\n"
     ]
    }
   ],
   "source": [
    "class Persona:\n",
    "    def __init__(self, nom):\n",
    "        self.nombre = nom\n",
    "    def saluda(self):\n",
    "        return \"Hola\"\n",
    "        \n",
    "#instanciando la clase Persona\n",
    "p1 = Persona(\"Jorge\")\n",
    "p2 = Persona(\"Martha\")\n",
    "p1.nombre = \"Juan\"\n",
    "print(p1.nombre)\n",
    "print(p1.saluda()) #llamando a un metodo de la clase Persona"
   ]
  },
  {
   "cell_type": "markdown",
   "id": "d5698389",
   "metadata": {},
   "source": [
    "Si quisiera definir una clase Estudiante que tambien es una persona pero además tien un CUI"
   ]
  },
  {
   "cell_type": "code",
   "execution_count": 30,
   "id": "5efe594f",
   "metadata": {},
   "outputs": [
    {
     "name": "stdout",
     "output_type": "stream",
     "text": [
      "Nombre: Luis\n",
      "Código: 2134255\n"
     ]
    }
   ],
   "source": [
    "class Estudiante(Persona):\n",
    "    def __init__(self, nom, cui):\n",
    "        Persona.__init__(self, nom)\n",
    "        self.cui = cui\n",
    "    \n",
    "    def __str__(self):\n",
    "        return \"Nombre: \" + self.nombre + \"\\nCódigo: \" + self.cui\n",
    "    \n",
    "e1 = Estudiante('Luis', '2134255')\n",
    "print(e1)"
   ]
  }
 ],
 "metadata": {
  "kernelspec": {
   "display_name": "Python 3 (ipykernel)",
   "language": "python",
   "name": "python3"
  },
  "language_info": {
   "codemirror_mode": {
    "name": "ipython",
    "version": 3
   },
   "file_extension": ".py",
   "mimetype": "text/x-python",
   "name": "python",
   "nbconvert_exporter": "python",
   "pygments_lexer": "ipython3",
   "version": "3.9.7"
  }
 },
 "nbformat": 4,
 "nbformat_minor": 5
}
